{
 "cells": [
  {
   "cell_type": "code",
   "execution_count": 1,
   "metadata": {
    "lines_to_next_cell": 2
   },
   "outputs": [],
   "source": [
    "import asyncio\n",
    "import time\n",
    "from concurrent.futures import ThreadPoolExecutor, ProcessPoolExecutor\n",
    "\n",
    "current_time = None  # for tracking elapsed time"
   ]
  },
  {
   "cell_type": "markdown",
   "metadata": {},
   "source": [
    "# Helper functions"
   ]
  },
  {
   "cell_type": "code",
   "execution_count": 2,
   "metadata": {},
   "outputs": [],
   "source": [
    "def print_with_elapsed_time(msg: str):\n",
    "    global current_time\n",
    "    \"\"\"Print message and elapsed seconds since current_time was reset.\"\"\"\n",
    "    print(f'{time.perf_counter() - current_time:.1f}s: {msg}')\n",
    "\n",
    "\n",
    "def run(func):\n",
    "    \"\"\"Run async function in existing (Jupyter) or a new loop.\"\"\"\n",
    "    global current_time\n",
    "    current_time = time.perf_counter()\n",
    "    print(f'\\n--------- running {func.__name__} ---------')\n",
    "    loop = asyncio.get_event_loop()\n",
    "    if loop.is_running():\n",
    "        loop.create_task(func())\n",
    "    else:\n",
    "        loop.run_until_complete(func())"
   ]
  },
  {
   "cell_type": "markdown",
   "metadata": {},
   "source": [
    "# Single async task"
   ]
  },
  {
   "cell_type": "code",
   "execution_count": 3,
   "metadata": {
    "lines_to_next_cell": 2
   },
   "outputs": [],
   "source": [
    "async def async_work_1():\n",
    "    print_with_elapsed_time(\"Starting A\")\n",
    "    await asyncio.sleep(1)\n",
    "    print_with_elapsed_time(\"Finished A\")"
   ]
  },
  {
   "cell_type": "code",
   "execution_count": 4,
   "metadata": {
    "lines_to_next_cell": 2
   },
   "outputs": [
    {
     "name": "stdout",
     "output_type": "stream",
     "text": [
      "\n",
      "--------- running async_work_1 ---------\n",
      "0.0s: Starting A\n",
      "1.0s: Finished A\n"
     ]
    }
   ],
   "source": [
    "run(async_work_1)"
   ]
  },
  {
   "cell_type": "markdown",
   "metadata": {},
   "source": [
    "# Single async task with result"
   ]
  },
  {
   "cell_type": "code",
   "execution_count": 5,
   "metadata": {
    "lines_to_next_cell": 2
   },
   "outputs": [],
   "source": [
    "async def async_work_2(n: float):\n",
    "    print_with_elapsed_time(f\"Starting B with n={n}\")\n",
    "    await asyncio.sleep(1)\n",
    "    print_with_elapsed_time(f\"Finished B with n={n}\")\n",
    "    return n\n",
    "\n",
    "\n",
    "async def task_with_result():\n",
    "    result = await async_work_2(n=100)\n",
    "    print_with_elapsed_time(f'result={result}')"
   ]
  },
  {
   "cell_type": "code",
   "execution_count": 6,
   "metadata": {
    "lines_to_next_cell": 2
   },
   "outputs": [
    {
     "name": "stdout",
     "output_type": "stream",
     "text": [
      "\n",
      "--------- running task_with_result ---------\n",
      "0.0s: Starting B with n=100\n",
      "1.0s: Finished B with n=100\n",
      "1.0s: result=100\n"
     ]
    }
   ],
   "source": [
    "run(task_with_result)"
   ]
  },
  {
   "cell_type": "markdown",
   "metadata": {},
   "source": [
    "# Multiple async tasks with results\n",
    "\n",
    "Use `asyncio.gather()` to run tasks in parallel."
   ]
  },
  {
   "cell_type": "code",
   "execution_count": 7,
   "metadata": {
    "lines_to_next_cell": 2
   },
   "outputs": [],
   "source": [
    "async def multiple_tasks_with_results():\n",
    "    result = await asyncio.gather(\n",
    "        async_work_1(),\n",
    "        async_work_2(n=100),\n",
    "        async_work_2(n=200)\n",
    "    )\n",
    "    print_with_elapsed_time(f'result={result}')"
   ]
  },
  {
   "cell_type": "code",
   "execution_count": 8,
   "metadata": {
    "lines_to_next_cell": 2
   },
   "outputs": [
    {
     "name": "stdout",
     "output_type": "stream",
     "text": [
      "\n",
      "--------- running multiple_tasks_with_results ---------\n",
      "0.0s: Starting A\n",
      "0.0s: Starting B with n=100\n",
      "0.0s: Starting B with n=200\n",
      "1.0s: Finished A\n",
      "1.0s: Finished B with n=100\n",
      "1.0s: Finished B with n=200\n",
      "1.0s: result=[None, 100, 200]\n"
     ]
    }
   ],
   "source": [
    "run(multiple_tasks_with_results)"
   ]
  },
  {
   "cell_type": "markdown",
   "metadata": {},
   "source": [
    "# Task which includes blocking call\n",
    "\n",
    "`work_1()` will delay the whole processing for 1.5s,\n",
    "since it uses blocking `time.sleep()` call.  \n",
    "The timing will depend on the order of `asyncio.gather()` parameters."
   ]
  },
  {
   "cell_type": "code",
   "execution_count": 9,
   "metadata": {
    "lines_to_next_cell": 2
   },
   "outputs": [],
   "source": [
    "def work_1(n: int):\n",
    "    print_with_elapsed_time(f\"Starting blocking work with n={n}\")\n",
    "    time.sleep(1.5)\n",
    "    print_with_elapsed_time(f\"Finished blocking work with n={n}\")\n",
    "    return n\n",
    "\n",
    "\n",
    "async def async_work_3(n: int):\n",
    "    print_with_elapsed_time(\"Starting C\")\n",
    "    work_1(n)\n",
    "    print_with_elapsed_time(\"Finished C\")\n",
    "\n",
    "\n",
    "async def blocking_task():\n",
    "    result = await asyncio.gather(\n",
    "        async_work_3(n=100),\n",
    "        async_work_1(),\n",
    "        async_work_2(n=200)\n",
    "    )\n",
    "    print_with_elapsed_time(f'result={result}')"
   ]
  },
  {
   "cell_type": "code",
   "execution_count": 10,
   "metadata": {
    "lines_to_next_cell": 2
   },
   "outputs": [
    {
     "name": "stdout",
     "output_type": "stream",
     "text": [
      "\n",
      "--------- running blocking_task ---------\n",
      "0.0s: Starting C\n",
      "0.0s: Starting blocking work with n=100\n",
      "1.5s: Finished blocking work with n=100\n",
      "1.5s: Finished C\n",
      "1.5s: Starting A\n",
      "1.5s: Starting B with n=200\n",
      "2.5s: Finished A\n",
      "2.5s: Finished B with n=200\n",
      "2.5s: result=[None, None, 200]\n"
     ]
    }
   ],
   "source": [
    "run(blocking_task)"
   ]
  },
  {
   "cell_type": "markdown",
   "metadata": {},
   "source": [
    "# Convert blocking function into non-blocking\n",
    "\n",
    "Use `run_in_executor()` to convert blocking into non-blocking tasks:\n",
    "- I/O-bound tasks should be run on `ThreadPoolExecutor`\n",
    "- CPU-bound tasks should be run on `ProcessPoolExecutor` (to avoid GIL limitations)"
   ]
  },
  {
   "cell_type": "code",
   "execution_count": 11,
   "metadata": {
    "lines_to_next_cell": 2
   },
   "outputs": [],
   "source": [
    "async def async_work_4(n: int, executor):\n",
    "    print_with_elapsed_time(\"Starting D\")\n",
    "    loop = asyncio.get_running_loop()\n",
    "    if executor is None:\n",
    "        result = await loop.run_in_executor(None, work_1, n)  # default executor\n",
    "    else:\n",
    "        with executor() as pool:\n",
    "            result = await loop.run_in_executor(pool, work_1, n)\n",
    "    print_with_elapsed_time(\"Finished D\")\n",
    "    return result\n",
    "\n",
    "\n",
    "async def blocking_task_on_default_executor():\n",
    "    result = await asyncio.gather(\n",
    "        async_work_4(100, executor=None),\n",
    "        async_work_1(),\n",
    "        async_work_2(n=200)\n",
    "    )\n",
    "    print_with_elapsed_time(f'result={result}')\n",
    "\n",
    "\n",
    "async def blocking_task_on_thread_executor():\n",
    "    result = await asyncio.gather(\n",
    "        async_work_4(100, executor=ThreadPoolExecutor),\n",
    "        async_work_1(),\n",
    "        async_work_2(n=200)\n",
    "    )\n",
    "    print_with_elapsed_time(f'result={result}')\n",
    "\n",
    "\n",
    "async def blocking_task_on_process_executor():\n",
    "    result = await asyncio.gather(\n",
    "        async_work_4(100, executor=ProcessPoolExecutor),\n",
    "        async_work_1(),\n",
    "        async_work_2(n=200)\n",
    "    )\n",
    "    print_with_elapsed_time(f'result={result}')"
   ]
  },
  {
   "cell_type": "code",
   "execution_count": 12,
   "metadata": {},
   "outputs": [
    {
     "name": "stdout",
     "output_type": "stream",
     "text": [
      "\n",
      "--------- running blocking_task_on_default_executor ---------\n",
      "0.0s: Starting D\n",
      "0.0s: Starting blocking work with n=100\n",
      "0.0s: Starting A\n",
      "0.0s: Starting B with n=200\n",
      "1.0s: Finished A\n",
      "1.0s: Finished B with n=200\n",
      "1.5s: Finished blocking work with n=100\n",
      "1.5s: Finished D\n",
      "1.5s: result=[100, None, 200]\n"
     ]
    }
   ],
   "source": [
    "run(blocking_task_on_default_executor)"
   ]
  },
  {
   "cell_type": "code",
   "execution_count": 13,
   "metadata": {},
   "outputs": [
    {
     "name": "stdout",
     "output_type": "stream",
     "text": [
      "\n",
      "--------- running blocking_task_on_thread_executor ---------\n",
      "0.0s: Starting D\n",
      "0.0s: Starting blocking work with n=1000.0s: Starting A\n",
      "0.0s: Starting B with n=200\n",
      "\n",
      "1.0s: Finished A\n",
      "1.0s: Finished B with n=200\n",
      "1.5s: Finished blocking work with n=100\n",
      "1.5s: Finished D\n",
      "1.5s: result=[100, None, 200]\n"
     ]
    }
   ],
   "source": [
    "run(blocking_task_on_thread_executor)"
   ]
  },
  {
   "cell_type": "code",
   "execution_count": 14,
   "metadata": {},
   "outputs": [
    {
     "name": "stdout",
     "output_type": "stream",
     "text": [
      "\n",
      "--------- running blocking_task_on_process_executor ---------\n",
      "0.0s: Starting D\n",
      "0.0s: Starting blocking work with n=100\n",
      "0.0s: Starting A\n",
      "0.0s: Starting B with n=200\n",
      "1.0s: Finished A\n",
      "1.0s: Finished B with n=200\n",
      "1.5s: Finished blocking work with n=100\n",
      "1.6s: Finished D\n",
      "1.6s: result=[100, None, 200]\n"
     ]
    }
   ],
   "source": [
    "run(blocking_task_on_process_executor)"
   ]
  }
 ],
 "metadata": {
  "jupytext": {
   "formats": "ipynb,py:percent"
  },
  "kernelspec": {
   "display_name": "Python 3",
   "language": "python",
   "name": "python3"
  },
  "language_info": {
   "codemirror_mode": {
    "name": "ipython",
    "version": 3
   },
   "file_extension": ".py",
   "mimetype": "text/x-python",
   "name": "python",
   "nbconvert_exporter": "python",
   "pygments_lexer": "ipython3",
   "version": "3.7.6"
  }
 },
 "nbformat": 4,
 "nbformat_minor": 4
}
