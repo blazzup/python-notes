{
 "cells": [
  {
   "cell_type": "code",
   "execution_count": 1,
   "metadata": {},
   "outputs": [],
   "source": [
    "import easygui\n",
    "import pandas as pd\n",
    "import pandas.util.testing as tu"
   ]
  },
  {
   "cell_type": "markdown",
   "metadata": {},
   "source": [
    "## Basic easygui functionality\n",
    "\n",
    "Note: the development of this module does not seem to be very active,\n",
    "but it does offer an extremely easy to use interface."
   ]
  },
  {
   "cell_type": "code",
   "execution_count": 2,
   "metadata": {
    "lines_to_next_cell": 2
   },
   "outputs": [
    {
     "name": "stdout",
     "output_type": "stream",
     "text": [
      "[0]\n",
      "['a']\n"
     ]
    }
   ],
   "source": [
    "selected = easygui.multchoicebox(msg='Select columns', choices=['a', 'b'])\n",
    "print(selected)"
   ]
  },
  {
   "cell_type": "markdown",
   "metadata": {},
   "source": [
    "## Select data frame columns and preserve selection\n",
    "\n",
    "This is meant for interactive work only and makes use of global variable 'column_list'."
   ]
  },
  {
   "cell_type": "code",
   "execution_count": 3,
   "metadata": {},
   "outputs": [],
   "source": [
    "def select_columns(data):\n",
    "    def ok_button_click(choice_box):\n",
    "        \"\"\"Return empty list instead of None when OK is pressed and nothing was selected.\"\"\"\n",
    "        if choice_box.choices is None:\n",
    "            choice_box.choices = []\n",
    "        choice_box.stop()\n",
    "\n",
    "    global column_list\n",
    "\n",
    "    # create global variable if not present yet\n",
    "    if 'column_list' not in globals():\n",
    "        column_list = []\n",
    "\n",
    "    # reset selection if not all names are found in data columns\n",
    "    if set(data.columns) & set(column_list) != set(column_list):\n",
    "        column_list = []\n",
    "\n",
    "    new_selection = easygui.multchoicebox(\n",
    "        msg='Select columns',\n",
    "        choices=data.columns,\n",
    "        preselect=list(map(data.columns.get_loc, column_list)),  # preselect takes index, not name\n",
    "        callback=ok_button_click,\n",
    "    )\n",
    "    column_list = new_selection if new_selection is not None else column_list"
   ]
  },
  {
   "cell_type": "code",
   "execution_count": 4,
   "metadata": {},
   "outputs": [
    {
     "data": {
      "text/html": [
       "<div>\n",
       "<style scoped>\n",
       "    .dataframe tbody tr th:only-of-type {\n",
       "        vertical-align: middle;\n",
       "    }\n",
       "\n",
       "    .dataframe tbody tr th {\n",
       "        vertical-align: top;\n",
       "    }\n",
       "\n",
       "    .dataframe thead th {\n",
       "        text-align: right;\n",
       "    }\n",
       "</style>\n",
       "<table border=\"1\" class=\"dataframe\">\n",
       "  <thead>\n",
       "    <tr style=\"text-align: right;\">\n",
       "      <th></th>\n",
       "      <th>A</th>\n",
       "      <th>B</th>\n",
       "      <th>C</th>\n",
       "      <th>D</th>\n",
       "      <th>E</th>\n",
       "      <th>F</th>\n",
       "      <th>G</th>\n",
       "      <th>H</th>\n",
       "      <th>I</th>\n",
       "      <th>J</th>\n",
       "    </tr>\n",
       "  </thead>\n",
       "  <tbody>\n",
       "    <tr>\n",
       "      <th>SV1ad7dNjt</th>\n",
       "      <td>0.484312</td>\n",
       "      <td>1.410205</td>\n",
       "      <td>-0.960755</td>\n",
       "      <td>0.680567</td>\n",
       "      <td>-0.242150</td>\n",
       "      <td>0.047365</td>\n",
       "      <td>0.566440</td>\n",
       "      <td>1.395472</td>\n",
       "      <td>0.175387</td>\n",
       "      <td>0.639736</td>\n",
       "    </tr>\n",
       "    <tr>\n",
       "      <th>vYKxgyym6b</th>\n",
       "      <td>0.579140</td>\n",
       "      <td>-0.374472</td>\n",
       "      <td>0.376927</td>\n",
       "      <td>-1.563497</td>\n",
       "      <td>1.514391</td>\n",
       "      <td>1.462740</td>\n",
       "      <td>0.149265</td>\n",
       "      <td>1.787484</td>\n",
       "      <td>-0.462506</td>\n",
       "      <td>-0.385863</td>\n",
       "    </tr>\n",
       "    <tr>\n",
       "      <th>MNxUyrLzni</th>\n",
       "      <td>-0.181583</td>\n",
       "      <td>0.275198</td>\n",
       "      <td>0.033439</td>\n",
       "      <td>-0.566698</td>\n",
       "      <td>-0.333057</td>\n",
       "      <td>1.535029</td>\n",
       "      <td>-1.078278</td>\n",
       "      <td>-0.569517</td>\n",
       "      <td>-1.085801</td>\n",
       "      <td>-0.775762</td>\n",
       "    </tr>\n",
       "  </tbody>\n",
       "</table>\n",
       "</div>"
      ],
      "text/plain": [
       "                   A         B         C         D         E         F  \\\n",
       "SV1ad7dNjt  0.484312  1.410205 -0.960755  0.680567 -0.242150  0.047365   \n",
       "vYKxgyym6b  0.579140 -0.374472  0.376927 -1.563497  1.514391  1.462740   \n",
       "MNxUyrLzni -0.181583  0.275198  0.033439 -0.566698 -0.333057  1.535029   \n",
       "\n",
       "                   G         H         I         J  \n",
       "SV1ad7dNjt  0.566440  1.395472  0.175387  0.639736  \n",
       "vYKxgyym6b  0.149265  1.787484 -0.462506 -0.385863  \n",
       "MNxUyrLzni -1.078278 -0.569517 -1.085801 -0.775762  "
      ]
     },
     "execution_count": 4,
     "metadata": {},
     "output_type": "execute_result"
    }
   ],
   "source": [
    "pd.np.random.seed(0)\n",
    "tu.N = 3\n",
    "tu.K = 10\n",
    "d = tu.makeDataFrame()\n",
    "d"
   ]
  },
  {
   "cell_type": "code",
   "execution_count": 5,
   "metadata": {},
   "outputs": [
    {
     "name": "stdout",
     "output_type": "stream",
     "text": [
      "[]\n"
     ]
    },
    {
     "data": {
      "text/html": [
       "<div>\n",
       "<style scoped>\n",
       "    .dataframe tbody tr th:only-of-type {\n",
       "        vertical-align: middle;\n",
       "    }\n",
       "\n",
       "    .dataframe tbody tr th {\n",
       "        vertical-align: top;\n",
       "    }\n",
       "\n",
       "    .dataframe thead th {\n",
       "        text-align: right;\n",
       "    }\n",
       "</style>\n",
       "<table border=\"1\" class=\"dataframe\">\n",
       "  <thead>\n",
       "    <tr style=\"text-align: right;\">\n",
       "      <th></th>\n",
       "      <th>A</th>\n",
       "      <th>B</th>\n",
       "      <th>H</th>\n",
       "    </tr>\n",
       "  </thead>\n",
       "  <tbody>\n",
       "    <tr>\n",
       "      <th>SV1ad7dNjt</th>\n",
       "      <td>0.484312</td>\n",
       "      <td>1.410205</td>\n",
       "      <td>1.395472</td>\n",
       "    </tr>\n",
       "    <tr>\n",
       "      <th>vYKxgyym6b</th>\n",
       "      <td>0.579140</td>\n",
       "      <td>-0.374472</td>\n",
       "      <td>1.787484</td>\n",
       "    </tr>\n",
       "    <tr>\n",
       "      <th>MNxUyrLzni</th>\n",
       "      <td>-0.181583</td>\n",
       "      <td>0.275198</td>\n",
       "      <td>-0.569517</td>\n",
       "    </tr>\n",
       "  </tbody>\n",
       "</table>\n",
       "</div>"
      ],
      "text/plain": [
       "                   A         B         H\n",
       "SV1ad7dNjt  0.484312  1.410205  1.395472\n",
       "vYKxgyym6b  0.579140 -0.374472  1.787484\n",
       "MNxUyrLzni -0.181583  0.275198 -0.569517"
      ]
     },
     "execution_count": 5,
     "metadata": {},
     "output_type": "execute_result"
    }
   ],
   "source": [
    "select_columns(d)\n",
    "d[column_list]"
   ]
  }
 ],
 "metadata": {
  "jupytext": {
   "formats": "ipynb,py:percent"
  },
  "kernelspec": {
   "display_name": "Python 3",
   "language": "python",
   "name": "python3"
  },
  "language_info": {
   "codemirror_mode": {
    "name": "ipython",
    "version": 3
   },
   "file_extension": ".py",
   "mimetype": "text/x-python",
   "name": "python",
   "nbconvert_exporter": "python",
   "pygments_lexer": "ipython3",
   "version": "3.7.5"
  }
 },
 "nbformat": 4,
 "nbformat_minor": 2
}
