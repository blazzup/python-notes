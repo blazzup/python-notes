{
 "cells": [
  {
   "cell_type": "code",
   "execution_count": 1,
   "metadata": {},
   "outputs": [],
   "source": [
    "import pandas as pd\n",
    "import pandas.util.testing as tu\n",
    "\n",
    "from uuid import uuid3, NAMESPACE_URL\n",
    "from pathlib import Path"
   ]
  },
  {
   "cell_type": "markdown",
   "metadata": {},
   "source": [
    "# Setup"
   ]
  },
  {
   "cell_type": "code",
   "execution_count": 2,
   "metadata": {
    "lines_to_next_cell": 2
   },
   "outputs": [],
   "source": [
    "def file_name(extension: str) -> str:\n",
    "    \"\"\"Create UUID file name from file extension to avoid overwriting existing files.\"\"\"\n",
    "    return f'{uuid3(NAMESPACE_URL, extension)}.{extension}'"
   ]
  },
  {
   "cell_type": "code",
   "execution_count": 3,
   "metadata": {},
   "outputs": [
    {
     "data": {
      "text/html": [
       "<div>\n",
       "<style scoped>\n",
       "    .dataframe tbody tr th:only-of-type {\n",
       "        vertical-align: middle;\n",
       "    }\n",
       "\n",
       "    .dataframe tbody tr th {\n",
       "        vertical-align: top;\n",
       "    }\n",
       "\n",
       "    .dataframe thead th {\n",
       "        text-align: right;\n",
       "    }\n",
       "</style>\n",
       "<table border=\"1\" class=\"dataframe\">\n",
       "  <thead>\n",
       "    <tr style=\"text-align: right;\">\n",
       "      <th></th>\n",
       "      <th>B</th>\n",
       "      <th>C</th>\n",
       "      <th>D</th>\n",
       "    </tr>\n",
       "    <tr>\n",
       "      <th>A</th>\n",
       "      <th></th>\n",
       "      <th></th>\n",
       "      <th></th>\n",
       "    </tr>\n",
       "  </thead>\n",
       "  <tbody>\n",
       "    <tr>\n",
       "      <th>1.085487</th>\n",
       "      <td>-0.114103</td>\n",
       "      <td>-0.415745</td>\n",
       "      <td>-0.956931</td>\n",
       "    </tr>\n",
       "    <tr>\n",
       "      <th>2.382224</th>\n",
       "      <td>-0.844231</td>\n",
       "      <td>-0.524512</td>\n",
       "      <td>0.067311</td>\n",
       "    </tr>\n",
       "    <tr>\n",
       "      <th>-0.406024</th>\n",
       "      <td>0.705641</td>\n",
       "      <td>0.813101</td>\n",
       "      <td>0.206499</td>\n",
       "    </tr>\n",
       "    <tr>\n",
       "      <th>0.266445</th>\n",
       "      <td>-0.398786</td>\n",
       "      <td>-0.229251</td>\n",
       "      <td>-0.456881</td>\n",
       "    </tr>\n",
       "    <tr>\n",
       "      <th>-1.355714</th>\n",
       "      <td>-0.827197</td>\n",
       "      <td>2.161717</td>\n",
       "      <td>-1.059976</td>\n",
       "    </tr>\n",
       "  </tbody>\n",
       "</table>\n",
       "</div>"
      ],
      "text/plain": [
       "                  B         C         D\n",
       "A                                      \n",
       " 1.085487 -0.114103 -0.415745 -0.956931\n",
       " 2.382224 -0.844231 -0.524512  0.067311\n",
       "-0.406024  0.705641  0.813101  0.206499\n",
       " 0.266445 -0.398786 -0.229251 -0.456881\n",
       "-1.355714 -0.827197  2.161717 -1.059976"
      ]
     },
     "execution_count": 3,
     "metadata": {},
     "output_type": "execute_result"
    }
   ],
   "source": [
    "pd.np.random.seed(0)\n",
    "tu.N = 5\n",
    "d = tu.makeDataFrame().set_index('A')\n",
    "d"
   ]
  },
  {
   "cell_type": "markdown",
   "metadata": {
    "lines_to_next_cell": 2
   },
   "source": [
    "# Export and import"
   ]
  },
  {
   "cell_type": "markdown",
   "metadata": {},
   "source": [
    "## Parquet\n",
    "\n",
    "Available with pandas $\\ge$ 0.21.0"
   ]
  },
  {
   "cell_type": "code",
   "execution_count": 4,
   "metadata": {},
   "outputs": [],
   "source": [
    "parquet_file = file_name('parquet')\n",
    "d.to_parquet(parquet_file)"
   ]
  },
  {
   "cell_type": "code",
   "execution_count": 5,
   "metadata": {},
   "outputs": [
    {
     "data": {
      "text/html": [
       "<div>\n",
       "<style scoped>\n",
       "    .dataframe tbody tr th:only-of-type {\n",
       "        vertical-align: middle;\n",
       "    }\n",
       "\n",
       "    .dataframe tbody tr th {\n",
       "        vertical-align: top;\n",
       "    }\n",
       "\n",
       "    .dataframe thead th {\n",
       "        text-align: right;\n",
       "    }\n",
       "</style>\n",
       "<table border=\"1\" class=\"dataframe\">\n",
       "  <thead>\n",
       "    <tr style=\"text-align: right;\">\n",
       "      <th></th>\n",
       "      <th>B</th>\n",
       "      <th>C</th>\n",
       "      <th>D</th>\n",
       "    </tr>\n",
       "    <tr>\n",
       "      <th>A</th>\n",
       "      <th></th>\n",
       "      <th></th>\n",
       "      <th></th>\n",
       "    </tr>\n",
       "  </thead>\n",
       "  <tbody>\n",
       "    <tr>\n",
       "      <th>1.085487</th>\n",
       "      <td>-0.114103</td>\n",
       "      <td>-0.415745</td>\n",
       "      <td>-0.956931</td>\n",
       "    </tr>\n",
       "    <tr>\n",
       "      <th>2.382224</th>\n",
       "      <td>-0.844231</td>\n",
       "      <td>-0.524512</td>\n",
       "      <td>0.067311</td>\n",
       "    </tr>\n",
       "    <tr>\n",
       "      <th>-0.406024</th>\n",
       "      <td>0.705641</td>\n",
       "      <td>0.813101</td>\n",
       "      <td>0.206499</td>\n",
       "    </tr>\n",
       "    <tr>\n",
       "      <th>0.266445</th>\n",
       "      <td>-0.398786</td>\n",
       "      <td>-0.229251</td>\n",
       "      <td>-0.456881</td>\n",
       "    </tr>\n",
       "    <tr>\n",
       "      <th>-1.355714</th>\n",
       "      <td>-0.827197</td>\n",
       "      <td>2.161717</td>\n",
       "      <td>-1.059976</td>\n",
       "    </tr>\n",
       "  </tbody>\n",
       "</table>\n",
       "</div>"
      ],
      "text/plain": [
       "                  B         C         D\n",
       "A                                      \n",
       " 1.085487 -0.114103 -0.415745 -0.956931\n",
       " 2.382224 -0.844231 -0.524512  0.067311\n",
       "-0.406024  0.705641  0.813101  0.206499\n",
       " 0.266445 -0.398786 -0.229251 -0.456881\n",
       "-1.355714 -0.827197  2.161717 -1.059976"
      ]
     },
     "execution_count": 5,
     "metadata": {},
     "output_type": "execute_result"
    }
   ],
   "source": [
    "pd.read_parquet(parquet_file)"
   ]
  },
  {
   "cell_type": "markdown",
   "metadata": {},
   "source": [
    "### Column names must be strings!"
   ]
  },
  {
   "cell_type": "code",
   "execution_count": 6,
   "metadata": {},
   "outputs": [
    {
     "name": "stdout",
     "output_type": "stream",
     "text": [
      "parquet must have string column names\n"
     ]
    }
   ],
   "source": [
    "try:\n",
    "    d.rename(columns={'B': 1, 'C': 2, 'D': 3}).to_parquet(parquet_file)\n",
    "except ValueError as e:\n",
    "    print(e)"
   ]
  },
  {
   "cell_type": "code",
   "execution_count": 7,
   "metadata": {},
   "outputs": [],
   "source": [
    "# use .rename(columns=str) for a quick fix\n",
    "d.rename(columns={'B': 1, 'C': 2, 'D': 3}).rename(columns=str).to_parquet(parquet_file)"
   ]
  },
  {
   "cell_type": "markdown",
   "metadata": {},
   "source": [
    "## Excel\n",
    "\n",
    "Note: index is stored as an ordinary column!"
   ]
  },
  {
   "cell_type": "code",
   "execution_count": 8,
   "metadata": {},
   "outputs": [],
   "source": [
    "excel_file = file_name('xlsx')\n",
    "d.to_excel(excel_file)"
   ]
  },
  {
   "cell_type": "code",
   "execution_count": 9,
   "metadata": {},
   "outputs": [
    {
     "data": {
      "text/html": [
       "<div>\n",
       "<style scoped>\n",
       "    .dataframe tbody tr th:only-of-type {\n",
       "        vertical-align: middle;\n",
       "    }\n",
       "\n",
       "    .dataframe tbody tr th {\n",
       "        vertical-align: top;\n",
       "    }\n",
       "\n",
       "    .dataframe thead th {\n",
       "        text-align: right;\n",
       "    }\n",
       "</style>\n",
       "<table border=\"1\" class=\"dataframe\">\n",
       "  <thead>\n",
       "    <tr style=\"text-align: right;\">\n",
       "      <th></th>\n",
       "      <th>A</th>\n",
       "      <th>B</th>\n",
       "      <th>C</th>\n",
       "      <th>D</th>\n",
       "    </tr>\n",
       "  </thead>\n",
       "  <tbody>\n",
       "    <tr>\n",
       "      <th>0</th>\n",
       "      <td>1.085487</td>\n",
       "      <td>-0.114103</td>\n",
       "      <td>-0.415745</td>\n",
       "      <td>-0.956931</td>\n",
       "    </tr>\n",
       "    <tr>\n",
       "      <th>1</th>\n",
       "      <td>2.382224</td>\n",
       "      <td>-0.844231</td>\n",
       "      <td>-0.524512</td>\n",
       "      <td>0.067311</td>\n",
       "    </tr>\n",
       "    <tr>\n",
       "      <th>2</th>\n",
       "      <td>-0.406024</td>\n",
       "      <td>0.705641</td>\n",
       "      <td>0.813101</td>\n",
       "      <td>0.206499</td>\n",
       "    </tr>\n",
       "    <tr>\n",
       "      <th>3</th>\n",
       "      <td>0.266445</td>\n",
       "      <td>-0.398786</td>\n",
       "      <td>-0.229251</td>\n",
       "      <td>-0.456881</td>\n",
       "    </tr>\n",
       "    <tr>\n",
       "      <th>4</th>\n",
       "      <td>-1.355714</td>\n",
       "      <td>-0.827197</td>\n",
       "      <td>2.161717</td>\n",
       "      <td>-1.059976</td>\n",
       "    </tr>\n",
       "  </tbody>\n",
       "</table>\n",
       "</div>"
      ],
      "text/plain": [
       "          A         B         C         D\n",
       "0  1.085487 -0.114103 -0.415745 -0.956931\n",
       "1  2.382224 -0.844231 -0.524512  0.067311\n",
       "2 -0.406024  0.705641  0.813101  0.206499\n",
       "3  0.266445 -0.398786 -0.229251 -0.456881\n",
       "4 -1.355714 -0.827197  2.161717 -1.059976"
      ]
     },
     "execution_count": 9,
     "metadata": {},
     "output_type": "execute_result"
    }
   ],
   "source": [
    "pd.read_excel(excel_file)"
   ]
  },
  {
   "cell_type": "code",
   "execution_count": 10,
   "metadata": {},
   "outputs": [
    {
     "data": {
      "text/html": [
       "<div>\n",
       "<style scoped>\n",
       "    .dataframe tbody tr th:only-of-type {\n",
       "        vertical-align: middle;\n",
       "    }\n",
       "\n",
       "    .dataframe tbody tr th {\n",
       "        vertical-align: top;\n",
       "    }\n",
       "\n",
       "    .dataframe thead th {\n",
       "        text-align: right;\n",
       "    }\n",
       "</style>\n",
       "<table border=\"1\" class=\"dataframe\">\n",
       "  <thead>\n",
       "    <tr style=\"text-align: right;\">\n",
       "      <th></th>\n",
       "      <th>B</th>\n",
       "      <th>C</th>\n",
       "      <th>D</th>\n",
       "    </tr>\n",
       "    <tr>\n",
       "      <th>A</th>\n",
       "      <th></th>\n",
       "      <th></th>\n",
       "      <th></th>\n",
       "    </tr>\n",
       "  </thead>\n",
       "  <tbody>\n",
       "    <tr>\n",
       "      <th>1.085487</th>\n",
       "      <td>-0.114103</td>\n",
       "      <td>-0.415745</td>\n",
       "      <td>-0.956931</td>\n",
       "    </tr>\n",
       "    <tr>\n",
       "      <th>2.382224</th>\n",
       "      <td>-0.844231</td>\n",
       "      <td>-0.524512</td>\n",
       "      <td>0.067311</td>\n",
       "    </tr>\n",
       "    <tr>\n",
       "      <th>-0.406024</th>\n",
       "      <td>0.705641</td>\n",
       "      <td>0.813101</td>\n",
       "      <td>0.206499</td>\n",
       "    </tr>\n",
       "    <tr>\n",
       "      <th>0.266445</th>\n",
       "      <td>-0.398786</td>\n",
       "      <td>-0.229251</td>\n",
       "      <td>-0.456881</td>\n",
       "    </tr>\n",
       "    <tr>\n",
       "      <th>-1.355714</th>\n",
       "      <td>-0.827197</td>\n",
       "      <td>2.161717</td>\n",
       "      <td>-1.059976</td>\n",
       "    </tr>\n",
       "  </tbody>\n",
       "</table>\n",
       "</div>"
      ],
      "text/plain": [
       "                  B         C         D\n",
       "A                                      \n",
       " 1.085487 -0.114103 -0.415745 -0.956931\n",
       " 2.382224 -0.844231 -0.524512  0.067311\n",
       "-0.406024  0.705641  0.813101  0.206499\n",
       " 0.266445 -0.398786 -0.229251 -0.456881\n",
       "-1.355714 -0.827197  2.161717 -1.059976"
      ]
     },
     "execution_count": 10,
     "metadata": {},
     "output_type": "execute_result"
    }
   ],
   "source": [
    "pd.read_excel(excel_file).set_index('A')  # restore index manually!"
   ]
  },
  {
   "cell_type": "markdown",
   "metadata": {},
   "source": [
    "## Tab-separated txt file with custom float format\n",
    "\n",
    "Note: index is stored as an ordinary column!"
   ]
  },
  {
   "cell_type": "code",
   "execution_count": 11,
   "metadata": {},
   "outputs": [],
   "source": [
    "csv_file = file_name('txt')\n",
    "d.to_csv(csv_file, sep='\\t', float_format='%.2f')"
   ]
  },
  {
   "cell_type": "code",
   "execution_count": 12,
   "metadata": {},
   "outputs": [
    {
     "data": {
      "text/html": [
       "<div>\n",
       "<style scoped>\n",
       "    .dataframe tbody tr th:only-of-type {\n",
       "        vertical-align: middle;\n",
       "    }\n",
       "\n",
       "    .dataframe tbody tr th {\n",
       "        vertical-align: top;\n",
       "    }\n",
       "\n",
       "    .dataframe thead th {\n",
       "        text-align: right;\n",
       "    }\n",
       "</style>\n",
       "<table border=\"1\" class=\"dataframe\">\n",
       "  <thead>\n",
       "    <tr style=\"text-align: right;\">\n",
       "      <th></th>\n",
       "      <th>A</th>\n",
       "      <th>B</th>\n",
       "      <th>C</th>\n",
       "      <th>D</th>\n",
       "    </tr>\n",
       "  </thead>\n",
       "  <tbody>\n",
       "    <tr>\n",
       "      <th>0</th>\n",
       "      <td>1.09</td>\n",
       "      <td>-0.11</td>\n",
       "      <td>-0.42</td>\n",
       "      <td>-0.96</td>\n",
       "    </tr>\n",
       "    <tr>\n",
       "      <th>1</th>\n",
       "      <td>2.38</td>\n",
       "      <td>-0.84</td>\n",
       "      <td>-0.52</td>\n",
       "      <td>0.07</td>\n",
       "    </tr>\n",
       "    <tr>\n",
       "      <th>2</th>\n",
       "      <td>-0.41</td>\n",
       "      <td>0.71</td>\n",
       "      <td>0.81</td>\n",
       "      <td>0.21</td>\n",
       "    </tr>\n",
       "    <tr>\n",
       "      <th>3</th>\n",
       "      <td>0.27</td>\n",
       "      <td>-0.40</td>\n",
       "      <td>-0.23</td>\n",
       "      <td>-0.46</td>\n",
       "    </tr>\n",
       "    <tr>\n",
       "      <th>4</th>\n",
       "      <td>-1.36</td>\n",
       "      <td>-0.83</td>\n",
       "      <td>2.16</td>\n",
       "      <td>-1.06</td>\n",
       "    </tr>\n",
       "  </tbody>\n",
       "</table>\n",
       "</div>"
      ],
      "text/plain": [
       "      A     B     C     D\n",
       "0  1.09 -0.11 -0.42 -0.96\n",
       "1  2.38 -0.84 -0.52  0.07\n",
       "2 -0.41  0.71  0.81  0.21\n",
       "3  0.27 -0.40 -0.23 -0.46\n",
       "4 -1.36 -0.83  2.16 -1.06"
      ]
     },
     "execution_count": 12,
     "metadata": {},
     "output_type": "execute_result"
    }
   ],
   "source": [
    "pd.read_csv(csv_file, sep='\\t')"
   ]
  },
  {
   "cell_type": "code",
   "execution_count": 13,
   "metadata": {},
   "outputs": [
    {
     "data": {
      "text/html": [
       "<div>\n",
       "<style scoped>\n",
       "    .dataframe tbody tr th:only-of-type {\n",
       "        vertical-align: middle;\n",
       "    }\n",
       "\n",
       "    .dataframe tbody tr th {\n",
       "        vertical-align: top;\n",
       "    }\n",
       "\n",
       "    .dataframe thead th {\n",
       "        text-align: right;\n",
       "    }\n",
       "</style>\n",
       "<table border=\"1\" class=\"dataframe\">\n",
       "  <thead>\n",
       "    <tr style=\"text-align: right;\">\n",
       "      <th></th>\n",
       "      <th>B</th>\n",
       "      <th>C</th>\n",
       "      <th>D</th>\n",
       "    </tr>\n",
       "    <tr>\n",
       "      <th>A</th>\n",
       "      <th></th>\n",
       "      <th></th>\n",
       "      <th></th>\n",
       "    </tr>\n",
       "  </thead>\n",
       "  <tbody>\n",
       "    <tr>\n",
       "      <th>1.09</th>\n",
       "      <td>-0.11</td>\n",
       "      <td>-0.42</td>\n",
       "      <td>-0.96</td>\n",
       "    </tr>\n",
       "    <tr>\n",
       "      <th>2.38</th>\n",
       "      <td>-0.84</td>\n",
       "      <td>-0.52</td>\n",
       "      <td>0.07</td>\n",
       "    </tr>\n",
       "    <tr>\n",
       "      <th>-0.41</th>\n",
       "      <td>0.71</td>\n",
       "      <td>0.81</td>\n",
       "      <td>0.21</td>\n",
       "    </tr>\n",
       "    <tr>\n",
       "      <th>0.27</th>\n",
       "      <td>-0.40</td>\n",
       "      <td>-0.23</td>\n",
       "      <td>-0.46</td>\n",
       "    </tr>\n",
       "    <tr>\n",
       "      <th>-1.36</th>\n",
       "      <td>-0.83</td>\n",
       "      <td>2.16</td>\n",
       "      <td>-1.06</td>\n",
       "    </tr>\n",
       "  </tbody>\n",
       "</table>\n",
       "</div>"
      ],
      "text/plain": [
       "          B     C     D\n",
       "A                      \n",
       " 1.09 -0.11 -0.42 -0.96\n",
       " 2.38 -0.84 -0.52  0.07\n",
       "-0.41  0.71  0.81  0.21\n",
       " 0.27 -0.40 -0.23 -0.46\n",
       "-1.36 -0.83  2.16 -1.06"
      ]
     },
     "execution_count": 13,
     "metadata": {},
     "output_type": "execute_result"
    }
   ],
   "source": [
    "pd.read_csv(csv_file, sep='\\t').set_index('A')  # restore index manually!"
   ]
  },
  {
   "cell_type": "markdown",
   "metadata": {},
   "source": [
    "# Benchmark"
   ]
  },
  {
   "cell_type": "code",
   "execution_count": 14,
   "metadata": {},
   "outputs": [
    {
     "data": {
      "text/plain": [
       "(100000, 4)"
      ]
     },
     "execution_count": 14,
     "metadata": {},
     "output_type": "execute_result"
    }
   ],
   "source": [
    "tu.N = 100000\n",
    "d = tu.makeDataFrame()\n",
    "d.shape"
   ]
  },
  {
   "cell_type": "markdown",
   "metadata": {},
   "source": [
    "## Write"
   ]
  },
  {
   "cell_type": "code",
   "execution_count": 15,
   "metadata": {},
   "outputs": [
    {
     "name": "stdout",
     "output_type": "stream",
     "text": [
      "CPU times: user 92.1 ms, sys: 16 ms, total: 108 ms\n",
      "Wall time: 110 ms\n"
     ]
    }
   ],
   "source": [
    "%%time\n",
    "d.to_parquet(parquet_file)"
   ]
  },
  {
   "cell_type": "code",
   "execution_count": 16,
   "metadata": {},
   "outputs": [
    {
     "name": "stdout",
     "output_type": "stream",
     "text": [
      "CPU times: user 9.78 s, sys: 92.9 ms, total: 9.87 s\n",
      "Wall time: 9.88 s\n"
     ]
    }
   ],
   "source": [
    "%%time\n",
    "d.to_excel(excel_file)"
   ]
  },
  {
   "cell_type": "code",
   "execution_count": 17,
   "metadata": {},
   "outputs": [
    {
     "name": "stdout",
     "output_type": "stream",
     "text": [
      "CPU times: user 733 ms, sys: 40 ms, total: 773 ms\n",
      "Wall time: 772 ms\n"
     ]
    }
   ],
   "source": [
    "%%time\n",
    "d.to_csv(csv_file)"
   ]
  },
  {
   "cell_type": "markdown",
   "metadata": {},
   "source": [
    "## Read"
   ]
  },
  {
   "cell_type": "code",
   "execution_count": 18,
   "metadata": {},
   "outputs": [
    {
     "name": "stdout",
     "output_type": "stream",
     "text": [
      "CPU times: user 51.4 ms, sys: 24.1 ms, total: 75.4 ms\n",
      "Wall time: 67.1 ms\n"
     ]
    }
   ],
   "source": [
    "%%time\n",
    "__ = pd.read_parquet(parquet_file)"
   ]
  },
  {
   "cell_type": "code",
   "execution_count": 19,
   "metadata": {},
   "outputs": [
    {
     "name": "stdout",
     "output_type": "stream",
     "text": [
      "CPU times: user 7.08 s, sys: 52 ms, total: 7.14 s\n",
      "Wall time: 7.15 s\n"
     ]
    }
   ],
   "source": [
    "%%time\n",
    "__ = pd.read_excel(excel_file)"
   ]
  },
  {
   "cell_type": "code",
   "execution_count": 20,
   "metadata": {},
   "outputs": [
    {
     "name": "stdout",
     "output_type": "stream",
     "text": [
      "CPU times: user 136 ms, sys: 4.09 ms, total: 141 ms\n",
      "Wall time: 137 ms\n"
     ]
    }
   ],
   "source": [
    "%%time\n",
    "__ = pd.read_csv(csv_file)"
   ]
  },
  {
   "cell_type": "markdown",
   "metadata": {},
   "source": [
    "## Size"
   ]
  },
  {
   "cell_type": "code",
   "execution_count": 21,
   "metadata": {},
   "outputs": [
    {
     "data": {
      "text/html": [
       "<div>\n",
       "<style scoped>\n",
       "    .dataframe tbody tr th:only-of-type {\n",
       "        vertical-align: middle;\n",
       "    }\n",
       "\n",
       "    .dataframe tbody tr th {\n",
       "        vertical-align: top;\n",
       "    }\n",
       "\n",
       "    .dataframe thead th {\n",
       "        text-align: right;\n",
       "    }\n",
       "</style>\n",
       "<table border=\"1\" class=\"dataframe\">\n",
       "  <thead>\n",
       "    <tr style=\"text-align: right;\">\n",
       "      <th></th>\n",
       "      <th>type</th>\n",
       "      <th>size</th>\n",
       "    </tr>\n",
       "  </thead>\n",
       "  <tbody>\n",
       "    <tr>\n",
       "      <th>0</th>\n",
       "      <td>.parquet</td>\n",
       "      <td>5424181</td>\n",
       "    </tr>\n",
       "    <tr>\n",
       "      <th>1</th>\n",
       "      <td>.xlsx</td>\n",
       "      <td>7138754</td>\n",
       "    </tr>\n",
       "    <tr>\n",
       "      <th>2</th>\n",
       "      <td>.txt</td>\n",
       "      <td>8952867</td>\n",
       "    </tr>\n",
       "  </tbody>\n",
       "</table>\n",
       "</div>"
      ],
      "text/plain": [
       "       type     size\n",
       "0  .parquet  5424181\n",
       "1     .xlsx  7138754\n",
       "2      .txt  8952867"
      ]
     },
     "execution_count": 21,
     "metadata": {},
     "output_type": "execute_result"
    }
   ],
   "source": [
    "pd.DataFrame(\n",
    "    [(Path(f).suffix, Path(f).stat().st_size) for f in [parquet_file, excel_file, csv_file]],\n",
    "    columns=['type', 'size'])"
   ]
  },
  {
   "cell_type": "markdown",
   "metadata": {},
   "source": [
    "# Remove exported files"
   ]
  },
  {
   "cell_type": "code",
   "execution_count": 22,
   "metadata": {},
   "outputs": [],
   "source": [
    "Path(parquet_file).unlink()\n",
    "Path(excel_file).unlink()\n",
    "Path(csv_file).unlink()"
   ]
  }
 ],
 "metadata": {
  "jupytext": {
   "formats": "ipynb,py:percent"
  },
  "kernelspec": {
   "display_name": "Python 3",
   "language": "python",
   "name": "python3"
  },
  "language_info": {
   "codemirror_mode": {
    "name": "ipython",
    "version": 3
   },
   "file_extension": ".py",
   "mimetype": "text/x-python",
   "name": "python",
   "nbconvert_exporter": "python",
   "pygments_lexer": "ipython3",
   "version": "3.7.5"
  }
 },
 "nbformat": 4,
 "nbformat_minor": 1
}
