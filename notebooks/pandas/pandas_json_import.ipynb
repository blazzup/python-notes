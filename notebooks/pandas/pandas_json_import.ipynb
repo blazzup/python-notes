{
 "cells": [
  {
   "cell_type": "code",
   "execution_count": 1,
   "metadata": {},
   "outputs": [],
   "source": [
    "import json\n",
    "\n",
    "import pandas as pd\n",
    "from pandas.io.json import json_normalize"
   ]
  },
  {
   "cell_type": "markdown",
   "metadata": {},
   "source": [
    "## Test data"
   ]
  },
  {
   "cell_type": "code",
   "execution_count": 2,
   "metadata": {},
   "outputs": [
    {
     "data": {
      "text/plain": [
       "{'int': 42, 'string': 'answer', 'float': 3.14, 'list': [10, 20, 30]}"
      ]
     },
     "execution_count": 2,
     "metadata": {},
     "output_type": "execute_result"
    }
   ],
   "source": [
    "d0 = {'int': 42, 'string': 'answer', 'float': 3.14, 'list': [10, 20, 30]}\n",
    "d0"
   ]
  },
  {
   "cell_type": "code",
   "execution_count": 3,
   "metadata": {},
   "outputs": [
    {
     "data": {
      "text/plain": [
       "{'dict': {'a': 1, 'b': 2},\n",
       " 'list_of_dict': [{'a': 1, 'b': 2, 'dict': {'a': 3, 'b': 4}},\n",
       "  {'a': 5, 'b': 6, 'dict': {'a': 7, 'b': 8}}],\n",
       " 'int': 42,\n",
       " 'string': 'answer',\n",
       " 'float': 3.14,\n",
       " 'list': [10, 20, 30]}"
      ]
     },
     "execution_count": 3,
     "metadata": {},
     "output_type": "execute_result"
    }
   ],
   "source": [
    "d = {\n",
    "    'dict': {'a': 1, 'b': 2},\n",
    "    'list_of_dict': [{'a': 1, 'b': 2, 'dict': {'a': 3, 'b': 4}},\n",
    "                     {'a': 5, 'b': 6, 'dict': {'a': 7, 'b': 8}}],\n",
    "}\n",
    "d.update(d0)\n",
    "d"
   ]
  },
  {
   "cell_type": "code",
   "execution_count": 4,
   "metadata": {},
   "outputs": [
    {
     "data": {
      "text/plain": [
       "'{\"int\": 42, \"string\": \"answer\", \"float\": 3.14, \"list\": [10, 20, 30]}'"
      ]
     },
     "execution_count": 4,
     "metadata": {},
     "output_type": "execute_result"
    }
   ],
   "source": [
    "json.dumps(d0)"
   ]
  },
  {
   "cell_type": "code",
   "execution_count": 5,
   "metadata": {},
   "outputs": [
    {
     "data": {
      "text/plain": [
       "'{\"dict\": {\"a\": 1, \"b\": 2}, \"list_of_dict\": [{\"a\": 1, \"b\": 2, \"dict\": {\"a\": 3, \"b\": 4}}, {\"a\": 5, \"b\": 6, \"dict\": {\"a\": 7, \"b\": 8}}], \"int\": 42, \"string\": \"answer\", \"float\": 3.14, \"list\": [10, 20, 30]}'"
      ]
     },
     "execution_count": 5,
     "metadata": {},
     "output_type": "execute_result"
    }
   ],
   "source": [
    "json.dumps(d)"
   ]
  },
  {
   "cell_type": "markdown",
   "metadata": {},
   "source": [
    "## Built-in `read_json()`\n",
    "\n",
    "Can expand lists into multiple rows, but does not work with more complicated dicts.  \n",
    "The expected structure is set by orient parameter."
   ]
  },
  {
   "cell_type": "code",
   "execution_count": 6,
   "metadata": {},
   "outputs": [
    {
     "data": {
      "text/html": [
       "<div>\n",
       "<style scoped>\n",
       "    .dataframe tbody tr th:only-of-type {\n",
       "        vertical-align: middle;\n",
       "    }\n",
       "\n",
       "    .dataframe tbody tr th {\n",
       "        vertical-align: top;\n",
       "    }\n",
       "\n",
       "    .dataframe thead th {\n",
       "        text-align: right;\n",
       "    }\n",
       "</style>\n",
       "<table border=\"1\" class=\"dataframe\">\n",
       "  <thead>\n",
       "    <tr style=\"text-align: right;\">\n",
       "      <th></th>\n",
       "      <th>int</th>\n",
       "      <th>string</th>\n",
       "      <th>float</th>\n",
       "      <th>list</th>\n",
       "    </tr>\n",
       "  </thead>\n",
       "  <tbody>\n",
       "    <tr>\n",
       "      <th>0</th>\n",
       "      <td>42</td>\n",
       "      <td>answer</td>\n",
       "      <td>3.14</td>\n",
       "      <td>10</td>\n",
       "    </tr>\n",
       "    <tr>\n",
       "      <th>1</th>\n",
       "      <td>42</td>\n",
       "      <td>answer</td>\n",
       "      <td>3.14</td>\n",
       "      <td>20</td>\n",
       "    </tr>\n",
       "    <tr>\n",
       "      <th>2</th>\n",
       "      <td>42</td>\n",
       "      <td>answer</td>\n",
       "      <td>3.14</td>\n",
       "      <td>30</td>\n",
       "    </tr>\n",
       "  </tbody>\n",
       "</table>\n",
       "</div>"
      ],
      "text/plain": [
       "   int  string  float  list\n",
       "0   42  answer   3.14    10\n",
       "1   42  answer   3.14    20\n",
       "2   42  answer   3.14    30"
      ]
     },
     "execution_count": 6,
     "metadata": {},
     "output_type": "execute_result"
    }
   ],
   "source": [
    "pd.read_json(json.dumps(d0))"
   ]
  },
  {
   "cell_type": "code",
   "execution_count": 7,
   "metadata": {},
   "outputs": [
    {
     "data": {
      "text/html": [
       "<div>\n",
       "<style scoped>\n",
       "    .dataframe tbody tr th:only-of-type {\n",
       "        vertical-align: middle;\n",
       "    }\n",
       "\n",
       "    .dataframe tbody tr th {\n",
       "        vertical-align: top;\n",
       "    }\n",
       "\n",
       "    .dataframe thead th {\n",
       "        text-align: right;\n",
       "    }\n",
       "</style>\n",
       "<table border=\"1\" class=\"dataframe\">\n",
       "  <thead>\n",
       "    <tr style=\"text-align: right;\">\n",
       "      <th></th>\n",
       "      <th>0</th>\n",
       "    </tr>\n",
       "  </thead>\n",
       "  <tbody>\n",
       "    <tr>\n",
       "      <th>float</th>\n",
       "      <td>3.14</td>\n",
       "    </tr>\n",
       "    <tr>\n",
       "      <th>int</th>\n",
       "      <td>42</td>\n",
       "    </tr>\n",
       "    <tr>\n",
       "      <th>list</th>\n",
       "      <td>[10, 20, 30]</td>\n",
       "    </tr>\n",
       "    <tr>\n",
       "      <th>string</th>\n",
       "      <td>answer</td>\n",
       "    </tr>\n",
       "  </tbody>\n",
       "</table>\n",
       "</div>"
      ],
      "text/plain": [
       "                   0\n",
       "float           3.14\n",
       "int               42\n",
       "list    [10, 20, 30]\n",
       "string        answer"
      ]
     },
     "execution_count": 7,
     "metadata": {},
     "output_type": "execute_result"
    }
   ],
   "source": [
    "pd.read_json(json.dumps(d0), orient='index')"
   ]
  },
  {
   "cell_type": "code",
   "execution_count": 8,
   "metadata": {},
   "outputs": [
    {
     "name": "stdout",
     "output_type": "stream",
     "text": [
      "JSON data had unexpected key(s): string, dict, list_of_dict, float, int, list\n",
      "arrays must all be same length\n",
      "'list' object has no attribute 'items'\n",
      "arrays must all be same length\n",
      "arrays must all be same length\n",
      "'schema'\n"
     ]
    }
   ],
   "source": [
    "orient = ['split', 'records', 'index', 'columns', 'values', 'table']\n",
    "for o in orient:\n",
    "    try:\n",
    "        pd.read_json(json.dumps(d), orient=o)\n",
    "    except Exception as exc:\n",
    "        print(exc)"
   ]
  },
  {
   "cell_type": "markdown",
   "metadata": {},
   "source": [
    "### Import list of records\n",
    "\n",
    "No flattening of dictionaries and no expanding of lists!"
   ]
  },
  {
   "cell_type": "code",
   "execution_count": 9,
   "metadata": {},
   "outputs": [
    {
     "data": {
      "text/html": [
       "<div>\n",
       "<style scoped>\n",
       "    .dataframe tbody tr th:only-of-type {\n",
       "        vertical-align: middle;\n",
       "    }\n",
       "\n",
       "    .dataframe tbody tr th {\n",
       "        vertical-align: top;\n",
       "    }\n",
       "\n",
       "    .dataframe thead th {\n",
       "        text-align: right;\n",
       "    }\n",
       "</style>\n",
       "<table border=\"1\" class=\"dataframe\">\n",
       "  <thead>\n",
       "    <tr style=\"text-align: right;\">\n",
       "      <th></th>\n",
       "      <th>int</th>\n",
       "      <th>string</th>\n",
       "      <th>float</th>\n",
       "      <th>list</th>\n",
       "    </tr>\n",
       "  </thead>\n",
       "  <tbody>\n",
       "    <tr>\n",
       "      <th>0</th>\n",
       "      <td>42</td>\n",
       "      <td>answer</td>\n",
       "      <td>3.14</td>\n",
       "      <td>[10, 20, 30]</td>\n",
       "    </tr>\n",
       "  </tbody>\n",
       "</table>\n",
       "</div>"
      ],
      "text/plain": [
       "   int  string  float          list\n",
       "0   42  answer   3.14  [10, 20, 30]"
      ]
     },
     "execution_count": 9,
     "metadata": {},
     "output_type": "execute_result"
    }
   ],
   "source": [
    "pd.read_json(json.dumps([d0]))"
   ]
  },
  {
   "cell_type": "code",
   "execution_count": 10,
   "metadata": {},
   "outputs": [
    {
     "data": {
      "text/html": [
       "<div>\n",
       "<style scoped>\n",
       "    .dataframe tbody tr th:only-of-type {\n",
       "        vertical-align: middle;\n",
       "    }\n",
       "\n",
       "    .dataframe tbody tr th {\n",
       "        vertical-align: top;\n",
       "    }\n",
       "\n",
       "    .dataframe thead th {\n",
       "        text-align: right;\n",
       "    }\n",
       "</style>\n",
       "<table border=\"1\" class=\"dataframe\">\n",
       "  <thead>\n",
       "    <tr style=\"text-align: right;\">\n",
       "      <th></th>\n",
       "      <th>dict</th>\n",
       "      <th>list_of_dict</th>\n",
       "      <th>int</th>\n",
       "      <th>string</th>\n",
       "      <th>float</th>\n",
       "      <th>list</th>\n",
       "    </tr>\n",
       "  </thead>\n",
       "  <tbody>\n",
       "    <tr>\n",
       "      <th>0</th>\n",
       "      <td>{'a': 1, 'b': 2}</td>\n",
       "      <td>[{'a': 1, 'b': 2, 'dict': {'a': 3, 'b': 4}}, {...</td>\n",
       "      <td>42</td>\n",
       "      <td>answer</td>\n",
       "      <td>3.14</td>\n",
       "      <td>[10, 20, 30]</td>\n",
       "    </tr>\n",
       "  </tbody>\n",
       "</table>\n",
       "</div>"
      ],
      "text/plain": [
       "               dict                                       list_of_dict  int  \\\n",
       "0  {'a': 1, 'b': 2}  [{'a': 1, 'b': 2, 'dict': {'a': 3, 'b': 4}}, {...   42   \n",
       "\n",
       "   string  float          list  \n",
       "0  answer   3.14  [10, 20, 30]  "
      ]
     },
     "execution_count": 10,
     "metadata": {},
     "output_type": "execute_result"
    }
   ],
   "source": [
    "pd.read_json(json.dumps([d]))"
   ]
  },
  {
   "cell_type": "markdown",
   "metadata": {},
   "source": [
    "## Built-in `json_normalize()`\n",
    "\n",
    "Expands dicts, but not lists."
   ]
  },
  {
   "cell_type": "code",
   "execution_count": 11,
   "metadata": {},
   "outputs": [
    {
     "data": {
      "text/html": [
       "<div>\n",
       "<style scoped>\n",
       "    .dataframe tbody tr th:only-of-type {\n",
       "        vertical-align: middle;\n",
       "    }\n",
       "\n",
       "    .dataframe tbody tr th {\n",
       "        vertical-align: top;\n",
       "    }\n",
       "\n",
       "    .dataframe thead th {\n",
       "        text-align: right;\n",
       "    }\n",
       "</style>\n",
       "<table border=\"1\" class=\"dataframe\">\n",
       "  <thead>\n",
       "    <tr style=\"text-align: right;\">\n",
       "      <th></th>\n",
       "      <th>int</th>\n",
       "      <th>string</th>\n",
       "      <th>float</th>\n",
       "      <th>list</th>\n",
       "    </tr>\n",
       "  </thead>\n",
       "  <tbody>\n",
       "    <tr>\n",
       "      <th>0</th>\n",
       "      <td>42</td>\n",
       "      <td>answer</td>\n",
       "      <td>3.14</td>\n",
       "      <td>[10, 20, 30]</td>\n",
       "    </tr>\n",
       "  </tbody>\n",
       "</table>\n",
       "</div>"
      ],
      "text/plain": [
       "   int  string  float          list\n",
       "0   42  answer   3.14  [10, 20, 30]"
      ]
     },
     "execution_count": 11,
     "metadata": {},
     "output_type": "execute_result"
    }
   ],
   "source": [
    "json_normalize(d0)"
   ]
  },
  {
   "cell_type": "code",
   "execution_count": 12,
   "metadata": {},
   "outputs": [
    {
     "data": {
      "text/html": [
       "<div>\n",
       "<style scoped>\n",
       "    .dataframe tbody tr th:only-of-type {\n",
       "        vertical-align: middle;\n",
       "    }\n",
       "\n",
       "    .dataframe tbody tr th {\n",
       "        vertical-align: top;\n",
       "    }\n",
       "\n",
       "    .dataframe thead th {\n",
       "        text-align: right;\n",
       "    }\n",
       "</style>\n",
       "<table border=\"1\" class=\"dataframe\">\n",
       "  <thead>\n",
       "    <tr style=\"text-align: right;\">\n",
       "      <th></th>\n",
       "      <th>list_of_dict</th>\n",
       "      <th>int</th>\n",
       "      <th>string</th>\n",
       "      <th>float</th>\n",
       "      <th>list</th>\n",
       "      <th>dict.a</th>\n",
       "      <th>dict.b</th>\n",
       "    </tr>\n",
       "  </thead>\n",
       "  <tbody>\n",
       "    <tr>\n",
       "      <th>0</th>\n",
       "      <td>[{'a': 1, 'b': 2, 'dict': {'a': 3, 'b': 4}}, {...</td>\n",
       "      <td>42</td>\n",
       "      <td>answer</td>\n",
       "      <td>3.14</td>\n",
       "      <td>[10, 20, 30]</td>\n",
       "      <td>1</td>\n",
       "      <td>2</td>\n",
       "    </tr>\n",
       "  </tbody>\n",
       "</table>\n",
       "</div>"
      ],
      "text/plain": [
       "                                        list_of_dict  int  string  float  \\\n",
       "0  [{'a': 1, 'b': 2, 'dict': {'a': 3, 'b': 4}}, {...   42  answer   3.14   \n",
       "\n",
       "           list  dict.a  dict.b  \n",
       "0  [10, 20, 30]       1       2  "
      ]
     },
     "execution_count": 12,
     "metadata": {},
     "output_type": "execute_result"
    }
   ],
   "source": [
    "json_normalize(d)"
   ]
  },
  {
   "cell_type": "markdown",
   "metadata": {},
   "source": [
    "## Manual flattening"
   ]
  },
  {
   "cell_type": "code",
   "execution_count": 13,
   "metadata": {},
   "outputs": [
    {
     "data": {
      "text/html": [
       "<div>\n",
       "<style scoped>\n",
       "    .dataframe tbody tr th:only-of-type {\n",
       "        vertical-align: middle;\n",
       "    }\n",
       "\n",
       "    .dataframe tbody tr th {\n",
       "        vertical-align: top;\n",
       "    }\n",
       "\n",
       "    .dataframe thead th {\n",
       "        text-align: right;\n",
       "    }\n",
       "</style>\n",
       "<table border=\"1\" class=\"dataframe\">\n",
       "  <thead>\n",
       "    <tr style=\"text-align: right;\">\n",
       "      <th></th>\n",
       "      <th>dict</th>\n",
       "      <th>list_of_dict</th>\n",
       "      <th>int</th>\n",
       "      <th>string</th>\n",
       "      <th>float</th>\n",
       "      <th>list</th>\n",
       "    </tr>\n",
       "  </thead>\n",
       "  <tbody>\n",
       "    <tr>\n",
       "      <th>0</th>\n",
       "      <td>{'a': 1, 'b': 2}</td>\n",
       "      <td>[{'a': 1, 'b': 2, 'dict': {'a': 3, 'b': 4}}, {...</td>\n",
       "      <td>42</td>\n",
       "      <td>answer</td>\n",
       "      <td>3.14</td>\n",
       "      <td>[10, 20, 30]</td>\n",
       "    </tr>\n",
       "    <tr>\n",
       "      <th>1</th>\n",
       "      <td>{'a': 1, 'b': 2}</td>\n",
       "      <td>[{'a': 1, 'b': 2, 'dict': {'a': 3, 'b': 4}}, {...</td>\n",
       "      <td>42</td>\n",
       "      <td>answer</td>\n",
       "      <td>3.14</td>\n",
       "      <td>[10, 20, 30]</td>\n",
       "    </tr>\n",
       "    <tr>\n",
       "      <th>2</th>\n",
       "      <td>{'a': 1, 'b': 2}</td>\n",
       "      <td>[{'a': 1, 'b': 2, 'dict': {'a': 3, 'b': 4}}, {...</td>\n",
       "      <td>42</td>\n",
       "      <td>answer</td>\n",
       "      <td>3.14</td>\n",
       "      <td>[10, 20, 30]</td>\n",
       "    </tr>\n",
       "  </tbody>\n",
       "</table>\n",
       "</div>"
      ],
      "text/plain": [
       "               dict                                       list_of_dict  int  \\\n",
       "0  {'a': 1, 'b': 2}  [{'a': 1, 'b': 2, 'dict': {'a': 3, 'b': 4}}, {...   42   \n",
       "1  {'a': 1, 'b': 2}  [{'a': 1, 'b': 2, 'dict': {'a': 3, 'b': 4}}, {...   42   \n",
       "2  {'a': 1, 'b': 2}  [{'a': 1, 'b': 2, 'dict': {'a': 3, 'b': 4}}, {...   42   \n",
       "\n",
       "   string  float          list  \n",
       "0  answer   3.14  [10, 20, 30]  \n",
       "1  answer   3.14  [10, 20, 30]  \n",
       "2  answer   3.14  [10, 20, 30]  "
      ]
     },
     "execution_count": 13,
     "metadata": {},
     "output_type": "execute_result"
    }
   ],
   "source": [
    "df = pd.DataFrame([d] * 3)\n",
    "df"
   ]
  },
  {
   "cell_type": "markdown",
   "metadata": {},
   "source": [
    "### Select columns by type"
   ]
  },
  {
   "cell_type": "code",
   "execution_count": 14,
   "metadata": {},
   "outputs": [
    {
     "data": {
      "text/plain": [
       "dict                     <class 'dict'>\n",
       "list_of_dict             <class 'list'>\n",
       "int               <class 'numpy.int64'>\n",
       "string                    <class 'str'>\n",
       "float           <class 'numpy.float64'>\n",
       "list                     <class 'list'>\n",
       "Name: 0, dtype: object"
      ]
     },
     "execution_count": 14,
     "metadata": {},
     "output_type": "execute_result"
    }
   ],
   "source": [
    "df.iloc[0].apply(type)"
   ]
  },
  {
   "cell_type": "code",
   "execution_count": 15,
   "metadata": {},
   "outputs": [
    {
     "data": {
      "text/plain": [
       "dict            False\n",
       "list_of_dict     True\n",
       "int             False\n",
       "string          False\n",
       "float           False\n",
       "list             True\n",
       "Name: 0, dtype: bool"
      ]
     },
     "execution_count": 15,
     "metadata": {},
     "output_type": "execute_result"
    }
   ],
   "source": [
    "df.iloc[0].apply(type) == list"
   ]
  },
  {
   "cell_type": "markdown",
   "metadata": {},
   "source": [
    "### Flatten dicts"
   ]
  },
  {
   "cell_type": "code",
   "execution_count": 16,
   "metadata": {},
   "outputs": [
    {
     "data": {
      "text/plain": [
       "0    {'a': 1, 'b': 2}\n",
       "1    {'a': 1, 'b': 2}\n",
       "2    {'a': 1, 'b': 2}\n",
       "Name: dict, dtype: object"
      ]
     },
     "execution_count": 16,
     "metadata": {},
     "output_type": "execute_result"
    }
   ],
   "source": [
    "df['dict']"
   ]
  },
  {
   "cell_type": "code",
   "execution_count": 17,
   "metadata": {},
   "outputs": [
    {
     "data": {
      "text/html": [
       "<div>\n",
       "<style scoped>\n",
       "    .dataframe tbody tr th:only-of-type {\n",
       "        vertical-align: middle;\n",
       "    }\n",
       "\n",
       "    .dataframe tbody tr th {\n",
       "        vertical-align: top;\n",
       "    }\n",
       "\n",
       "    .dataframe thead th {\n",
       "        text-align: right;\n",
       "    }\n",
       "</style>\n",
       "<table border=\"1\" class=\"dataframe\">\n",
       "  <thead>\n",
       "    <tr style=\"text-align: right;\">\n",
       "      <th></th>\n",
       "      <th>a</th>\n",
       "      <th>b</th>\n",
       "    </tr>\n",
       "  </thead>\n",
       "  <tbody>\n",
       "    <tr>\n",
       "      <th>0</th>\n",
       "      <td>1</td>\n",
       "      <td>2</td>\n",
       "    </tr>\n",
       "    <tr>\n",
       "      <th>1</th>\n",
       "      <td>1</td>\n",
       "      <td>2</td>\n",
       "    </tr>\n",
       "    <tr>\n",
       "      <th>2</th>\n",
       "      <td>1</td>\n",
       "      <td>2</td>\n",
       "    </tr>\n",
       "  </tbody>\n",
       "</table>\n",
       "</div>"
      ],
      "text/plain": [
       "   a  b\n",
       "0  1  2\n",
       "1  1  2\n",
       "2  1  2"
      ]
     },
     "execution_count": 17,
     "metadata": {},
     "output_type": "execute_result"
    }
   ],
   "source": [
    "pd.DataFrame(df['dict'].tolist())"
   ]
  },
  {
   "cell_type": "markdown",
   "metadata": {},
   "source": [
    "### Flatten lists"
   ]
  },
  {
   "cell_type": "code",
   "execution_count": 18,
   "metadata": {},
   "outputs": [
    {
     "data": {
      "text/plain": [
       "0    [10, 20, 30]\n",
       "1    [10, 20, 30]\n",
       "2    [10, 20, 30]\n",
       "Name: list, dtype: object"
      ]
     },
     "execution_count": 18,
     "metadata": {},
     "output_type": "execute_result"
    }
   ],
   "source": [
    "df['list']"
   ]
  },
  {
   "cell_type": "code",
   "execution_count": 19,
   "metadata": {},
   "outputs": [
    {
     "data": {
      "text/html": [
       "<div>\n",
       "<style scoped>\n",
       "    .dataframe tbody tr th:only-of-type {\n",
       "        vertical-align: middle;\n",
       "    }\n",
       "\n",
       "    .dataframe tbody tr th {\n",
       "        vertical-align: top;\n",
       "    }\n",
       "\n",
       "    .dataframe thead th {\n",
       "        text-align: right;\n",
       "    }\n",
       "</style>\n",
       "<table border=\"1\" class=\"dataframe\">\n",
       "  <thead>\n",
       "    <tr style=\"text-align: right;\">\n",
       "      <th></th>\n",
       "      <th>0</th>\n",
       "      <th>1</th>\n",
       "      <th>2</th>\n",
       "    </tr>\n",
       "  </thead>\n",
       "  <tbody>\n",
       "    <tr>\n",
       "      <th>0</th>\n",
       "      <td>10</td>\n",
       "      <td>20</td>\n",
       "      <td>30</td>\n",
       "    </tr>\n",
       "    <tr>\n",
       "      <th>1</th>\n",
       "      <td>10</td>\n",
       "      <td>20</td>\n",
       "      <td>30</td>\n",
       "    </tr>\n",
       "    <tr>\n",
       "      <th>2</th>\n",
       "      <td>10</td>\n",
       "      <td>20</td>\n",
       "      <td>30</td>\n",
       "    </tr>\n",
       "  </tbody>\n",
       "</table>\n",
       "</div>"
      ],
      "text/plain": [
       "    0   1   2\n",
       "0  10  20  30\n",
       "1  10  20  30\n",
       "2  10  20  30"
      ]
     },
     "execution_count": 19,
     "metadata": {},
     "output_type": "execute_result"
    }
   ],
   "source": [
    "pd.DataFrame(df['list'].apply(enumerate).apply(dict).tolist())"
   ]
  },
  {
   "cell_type": "markdown",
   "metadata": {},
   "source": [
    "### Final solution\n",
    "\n",
    "- iteratively flatten all lists and all dicts\n",
    "- exclude specified columns from default processing and use custom functions istead"
   ]
  },
  {
   "cell_type": "code",
   "execution_count": 20,
   "metadata": {},
   "outputs": [],
   "source": [
    "def _expand_column(data: pd.DataFrame, name: str, func, custom_columns: dict, sep: str) -> pd.DataFrame:\n",
    "    \"\"\"Split a single column into one or more columns by applying func.\"\"\"\n",
    "    new_columns = pd.DataFrame(func(data[name]))\n",
    "\n",
    "    # prefix column names with parent name\n",
    "    name_map = {current_name: f'{name}{sep}{current_name}' for current_name in new_columns.columns}\n",
    "\n",
    "    # add new names to custom columns dict so that they will be processed correctly\n",
    "    for current_name in set(new_columns.columns) & set(custom_columns):\n",
    "        new_name = name_map[current_name]\n",
    "        custom_columns[new_name] = custom_columns[current_name]  # map to the same processing function\n",
    "\n",
    "    new_columns.rename(name_map, axis=1, inplace=True)\n",
    "\n",
    "    return new_columns\n",
    "\n",
    "\n",
    "def expand(data: pd.DataFrame, custom_columns: dict = None, sep: str = '_', depth=100) -> pd.DataFrame:\n",
    "    \"\"\"Expand list and dict columns in pandas data frame.\n",
    "\n",
    "    Args:\n",
    "        data: Input data frame.\n",
    "        custom_columns: Dictionary of column names which should be excluded from default processing\n",
    "            and use custom functions instead.\n",
    "        sep: Separator to use when merging parent and child names.\n",
    "        depth: Maximum number of hierarchy levels to expand.\n",
    "    \"\"\"\n",
    "    if data.empty:\n",
    "        return data\n",
    "\n",
    "    if custom_columns is None:\n",
    "        custom_columns = {}\n",
    "\n",
    "    # expand lists and dicts\n",
    "    for i in range(depth):\n",
    "        first_row = data.iloc[0]  # creates a series with column names as index\n",
    "        column_type = first_row.apply(type)\n",
    "\n",
    "        list_columns = set(first_row.index[column_type == list]) - set(custom_columns)\n",
    "        dict_columns = set(first_row.index[column_type == dict]) - set(custom_columns)\n",
    "        if not list_columns and not dict_columns:\n",
    "            break\n",
    "        if i + 1 == depth:\n",
    "            raise RuntimeError((f'Number of hierarchy levels exceeded, '\n",
    "                                f'increase depth parameter (currently depth={depth})'))\n",
    "\n",
    "        new_columns = []\n",
    "        for name in list_columns:\n",
    "            new_columns.append(\n",
    "                _expand_column(data, name,\n",
    "                               lambda column: column.apply(lambda item: dict(enumerate(item))).tolist(),\n",
    "                               custom_columns, sep)\n",
    "            )\n",
    "        for name in dict_columns:\n",
    "            new_columns.append(\n",
    "                _expand_column(data, name, lambda column: column.tolist(), custom_columns, sep)\n",
    "            )\n",
    "\n",
    "        remaining_columns = data[set(data.columns) - (list_columns | dict_columns)]\n",
    "        new_columns.append(remaining_columns)\n",
    "        data = pd.concat(new_columns, axis=1)\n",
    "\n",
    "    # process custom columns\n",
    "    for name, func in custom_columns.items():\n",
    "        if name in data.columns:\n",
    "            data[name] = data[name].apply(func)\n",
    "\n",
    "    return data"
   ]
  },
  {
   "cell_type": "code",
   "execution_count": 21,
   "metadata": {},
   "outputs": [
    {
     "data": {
      "text/html": [
       "<div>\n",
       "<style scoped>\n",
       "    .dataframe tbody tr th:only-of-type {\n",
       "        vertical-align: middle;\n",
       "    }\n",
       "\n",
       "    .dataframe tbody tr th {\n",
       "        vertical-align: top;\n",
       "    }\n",
       "\n",
       "    .dataframe thead th {\n",
       "        text-align: right;\n",
       "    }\n",
       "</style>\n",
       "<table border=\"1\" class=\"dataframe\">\n",
       "  <thead>\n",
       "    <tr style=\"text-align: right;\">\n",
       "      <th></th>\n",
       "      <th>list_of_dict_1_dict_a</th>\n",
       "      <th>list_of_dict_1_dict_b</th>\n",
       "      <th>list_of_dict_0_dict_a</th>\n",
       "      <th>list_of_dict_0_dict_b</th>\n",
       "      <th>string</th>\n",
       "      <th>list_0</th>\n",
       "      <th>list_of_dict_1_a</th>\n",
       "      <th>list_1</th>\n",
       "      <th>list_of_dict_1_b</th>\n",
       "      <th>list_2</th>\n",
       "      <th>list_of_dict_0_b</th>\n",
       "      <th>dict_b</th>\n",
       "      <th>list_of_dict_0_a</th>\n",
       "      <th>dict_a</th>\n",
       "      <th>float</th>\n",
       "      <th>int</th>\n",
       "    </tr>\n",
       "  </thead>\n",
       "  <tbody>\n",
       "    <tr>\n",
       "      <th>0</th>\n",
       "      <td>7</td>\n",
       "      <td>8</td>\n",
       "      <td>3</td>\n",
       "      <td>4</td>\n",
       "      <td>answer</td>\n",
       "      <td>10</td>\n",
       "      <td>5</td>\n",
       "      <td>20</td>\n",
       "      <td>6</td>\n",
       "      <td>30</td>\n",
       "      <td>2</td>\n",
       "      <td>2</td>\n",
       "      <td>1</td>\n",
       "      <td>1</td>\n",
       "      <td>3.14</td>\n",
       "      <td>42</td>\n",
       "    </tr>\n",
       "    <tr>\n",
       "      <th>1</th>\n",
       "      <td>7</td>\n",
       "      <td>8</td>\n",
       "      <td>3</td>\n",
       "      <td>4</td>\n",
       "      <td>answer</td>\n",
       "      <td>10</td>\n",
       "      <td>5</td>\n",
       "      <td>20</td>\n",
       "      <td>6</td>\n",
       "      <td>30</td>\n",
       "      <td>2</td>\n",
       "      <td>2</td>\n",
       "      <td>1</td>\n",
       "      <td>1</td>\n",
       "      <td>3.14</td>\n",
       "      <td>42</td>\n",
       "    </tr>\n",
       "    <tr>\n",
       "      <th>2</th>\n",
       "      <td>7</td>\n",
       "      <td>8</td>\n",
       "      <td>3</td>\n",
       "      <td>4</td>\n",
       "      <td>answer</td>\n",
       "      <td>10</td>\n",
       "      <td>5</td>\n",
       "      <td>20</td>\n",
       "      <td>6</td>\n",
       "      <td>30</td>\n",
       "      <td>2</td>\n",
       "      <td>2</td>\n",
       "      <td>1</td>\n",
       "      <td>1</td>\n",
       "      <td>3.14</td>\n",
       "      <td>42</td>\n",
       "    </tr>\n",
       "  </tbody>\n",
       "</table>\n",
       "</div>"
      ],
      "text/plain": [
       "   list_of_dict_1_dict_a  list_of_dict_1_dict_b  list_of_dict_0_dict_a  \\\n",
       "0                      7                      8                      3   \n",
       "1                      7                      8                      3   \n",
       "2                      7                      8                      3   \n",
       "\n",
       "   list_of_dict_0_dict_b  string  list_0  list_of_dict_1_a  list_1  \\\n",
       "0                      4  answer      10                 5      20   \n",
       "1                      4  answer      10                 5      20   \n",
       "2                      4  answer      10                 5      20   \n",
       "\n",
       "   list_of_dict_1_b  list_2  list_of_dict_0_b  dict_b  list_of_dict_0_a  \\\n",
       "0                 6      30                 2       2                 1   \n",
       "1                 6      30                 2       2                 1   \n",
       "2                 6      30                 2       2                 1   \n",
       "\n",
       "   dict_a  float  int  \n",
       "0       1   3.14   42  \n",
       "1       1   3.14   42  \n",
       "2       1   3.14   42  "
      ]
     },
     "execution_count": 21,
     "metadata": {},
     "output_type": "execute_result"
    }
   ],
   "source": [
    "expand(df)"
   ]
  },
  {
   "cell_type": "code",
   "execution_count": 22,
   "metadata": {},
   "outputs": [
    {
     "data": {
      "text/html": [
       "<div>\n",
       "<style scoped>\n",
       "    .dataframe tbody tr th:only-of-type {\n",
       "        vertical-align: middle;\n",
       "    }\n",
       "\n",
       "    .dataframe tbody tr th {\n",
       "        vertical-align: top;\n",
       "    }\n",
       "\n",
       "    .dataframe thead th {\n",
       "        text-align: right;\n",
       "    }\n",
       "</style>\n",
       "<table border=\"1\" class=\"dataframe\">\n",
       "  <thead>\n",
       "    <tr style=\"text-align: right;\">\n",
       "      <th></th>\n",
       "      <th>list_of_dict_0_a</th>\n",
       "      <th>list_of_dict_0_b</th>\n",
       "      <th>list_of_dict_0_dict</th>\n",
       "      <th>list_of_dict_1_a</th>\n",
       "      <th>list_of_dict_1_b</th>\n",
       "      <th>list_of_dict_1_dict</th>\n",
       "      <th>string</th>\n",
       "      <th>dict</th>\n",
       "      <th>list_0</th>\n",
       "      <th>list_1</th>\n",
       "      <th>list_2</th>\n",
       "      <th>float</th>\n",
       "      <th>int</th>\n",
       "    </tr>\n",
       "  </thead>\n",
       "  <tbody>\n",
       "    <tr>\n",
       "      <th>0</th>\n",
       "      <td>1</td>\n",
       "      <td>2</td>\n",
       "      <td>{'a': 3, 'b': 4}</td>\n",
       "      <td>5</td>\n",
       "      <td>6</td>\n",
       "      <td>{'a': 7, 'b': 8}</td>\n",
       "      <td>answer</td>\n",
       "      <td>{'a': 1, 'b': 2}</td>\n",
       "      <td>10</td>\n",
       "      <td>20</td>\n",
       "      <td>30</td>\n",
       "      <td>3.14</td>\n",
       "      <td>42</td>\n",
       "    </tr>\n",
       "    <tr>\n",
       "      <th>1</th>\n",
       "      <td>1</td>\n",
       "      <td>2</td>\n",
       "      <td>{'a': 3, 'b': 4}</td>\n",
       "      <td>5</td>\n",
       "      <td>6</td>\n",
       "      <td>{'a': 7, 'b': 8}</td>\n",
       "      <td>answer</td>\n",
       "      <td>{'a': 1, 'b': 2}</td>\n",
       "      <td>10</td>\n",
       "      <td>20</td>\n",
       "      <td>30</td>\n",
       "      <td>3.14</td>\n",
       "      <td>42</td>\n",
       "    </tr>\n",
       "    <tr>\n",
       "      <th>2</th>\n",
       "      <td>1</td>\n",
       "      <td>2</td>\n",
       "      <td>{'a': 3, 'b': 4}</td>\n",
       "      <td>5</td>\n",
       "      <td>6</td>\n",
       "      <td>{'a': 7, 'b': 8}</td>\n",
       "      <td>answer</td>\n",
       "      <td>{'a': 1, 'b': 2}</td>\n",
       "      <td>10</td>\n",
       "      <td>20</td>\n",
       "      <td>30</td>\n",
       "      <td>3.14</td>\n",
       "      <td>42</td>\n",
       "    </tr>\n",
       "  </tbody>\n",
       "</table>\n",
       "</div>"
      ],
      "text/plain": [
       "   list_of_dict_0_a  list_of_dict_0_b list_of_dict_0_dict  list_of_dict_1_a  \\\n",
       "0                 1                 2    {'a': 3, 'b': 4}                 5   \n",
       "1                 1                 2    {'a': 3, 'b': 4}                 5   \n",
       "2                 1                 2    {'a': 3, 'b': 4}                 5   \n",
       "\n",
       "   list_of_dict_1_b list_of_dict_1_dict  string              dict  list_0  \\\n",
       "0                 6    {'a': 7, 'b': 8}  answer  {'a': 1, 'b': 2}      10   \n",
       "1                 6    {'a': 7, 'b': 8}  answer  {'a': 1, 'b': 2}      10   \n",
       "2                 6    {'a': 7, 'b': 8}  answer  {'a': 1, 'b': 2}      10   \n",
       "\n",
       "   list_1  list_2  float  int  \n",
       "0      20      30   3.14   42  \n",
       "1      20      30   3.14   42  \n",
       "2      20      30   3.14   42  "
      ]
     },
     "execution_count": 22,
     "metadata": {},
     "output_type": "execute_result"
    }
   ],
   "source": [
    "expand(df, custom_columns={'dict': str})"
   ]
  },
  {
   "cell_type": "markdown",
   "metadata": {},
   "source": [
    "### Benchmark"
   ]
  },
  {
   "cell_type": "code",
   "execution_count": 23,
   "metadata": {},
   "outputs": [
    {
     "name": "stdout",
     "output_type": "stream",
     "text": [
      "14.5 ms ± 723 µs per loop (mean ± std. dev. of 7 runs, 100 loops each)\n"
     ]
    }
   ],
   "source": [
    "%%timeit\n",
    "expand(pd.DataFrame([d]), custom_columns={'dict': str})"
   ]
  },
  {
   "cell_type": "code",
   "execution_count": 24,
   "metadata": {},
   "outputs": [
    {
     "name": "stdout",
     "output_type": "stream",
     "text": [
      "99.4 ms ± 1.16 ms per loop (mean ± std. dev. of 7 runs, 10 loops each)\n"
     ]
    }
   ],
   "source": [
    "%%timeit\n",
    "expand(pd.DataFrame([d] * 10000), custom_columns={'dict': str})"
   ]
  }
 ],
 "metadata": {
  "jupytext": {
   "formats": "ipynb,py:percent"
  },
  "kernelspec": {
   "display_name": "Python 3",
   "language": "python",
   "name": "python3"
  },
  "language_info": {
   "codemirror_mode": {
    "name": "ipython",
    "version": 3
   },
   "file_extension": ".py",
   "mimetype": "text/x-python",
   "name": "python",
   "nbconvert_exporter": "python",
   "pygments_lexer": "ipython3",
   "version": "3.7.6"
  }
 },
 "nbformat": 4,
 "nbformat_minor": 2
}
