{
 "cells": [
  {
   "cell_type": "code",
   "execution_count": 1,
   "metadata": {},
   "outputs": [],
   "source": [
    "import logging"
   ]
  },
  {
   "cell_type": "code",
   "execution_count": 2,
   "metadata": {},
   "outputs": [],
   "source": [
    "def logger_info(logger):\n",
    "    return {\n",
    "        'set level': logging.getLevelName(logger.level),\n",
    "        'actual level': logging.getLevelName(logger.getEffectiveLevel()),\n",
    "        'use parent handlers': logger.propagate,\n",
    "        'own handlers': logger.handlers,\n",
    "    }\n",
    "\n",
    "\n",
    "def log(logger, x=1):\n",
    "    logger.debug('debug')\n",
    "    logger.info('info')\n",
    "    logger.warning('warning')\n",
    "    logger.error('error')\n",
    "    logger.critical('critical')\n",
    "    try:\n",
    "        1 / x\n",
    "    except ZeroDivisionError:\n",
    "        logger.exception('exception')"
   ]
  },
  {
   "cell_type": "markdown",
   "metadata": {},
   "source": [
    "## Info\n",
    "\n",
    "This notebook must be run from start to end (Kernel -> Restart & Run All), since loggers are singletons.  Any re-runing of cells might give unexpected results (although figuring out what is going on could be a good exercise)."
   ]
  },
  {
   "cell_type": "markdown",
   "metadata": {},
   "source": [
    "## Root logger"
   ]
  },
  {
   "cell_type": "code",
   "execution_count": 3,
   "metadata": {},
   "outputs": [
    {
     "data": {
      "text/plain": [
       "{'set level': 'WARNING',\n",
       " 'actual level': 'WARNING',\n",
       " 'use parent handlers': True,\n",
       " 'own handlers': []}"
      ]
     },
     "execution_count": 3,
     "metadata": {},
     "output_type": "execute_result"
    }
   ],
   "source": [
    "root_logger = logging.getLogger('')  # get it by passing an empty string\n",
    "logger_info(root_logger)"
   ]
  },
  {
   "cell_type": "code",
   "execution_count": 4,
   "metadata": {},
   "outputs": [
    {
     "data": {
      "text/plain": [
       "True"
      ]
     },
     "execution_count": 4,
     "metadata": {},
     "output_type": "execute_result"
    }
   ],
   "source": [
    "id(root_logger) == id(logging.root)"
   ]
  },
  {
   "cell_type": "code",
   "execution_count": 5,
   "metadata": {},
   "outputs": [
    {
     "data": {
      "text/plain": [
       "('root', False)"
      ]
     },
     "execution_count": 5,
     "metadata": {},
     "output_type": "execute_result"
    }
   ],
   "source": [
    "# Although its name is 'root', it cannot be fetched by using it. Use '' as above.\n",
    "root_logger.name, id(root_logger) == id(logging.getLogger(root_logger.name))"
   ]
  },
  {
   "cell_type": "code",
   "execution_count": 6,
   "metadata": {},
   "outputs": [
    {
     "name": "stderr",
     "output_type": "stream",
     "text": [
      "warning\n",
      "error\n",
      "critical\n"
     ]
    }
   ],
   "source": [
    "# output is still present due to last resort handler which is activated if handlers list is empty\n",
    "log(root_logger)"
   ]
  },
  {
   "cell_type": "code",
   "execution_count": 7,
   "metadata": {},
   "outputs": [
    {
     "name": "stderr",
     "output_type": "stream",
     "text": [
      "warning\n",
      "error\n",
      "critical\n",
      "exception\n",
      "Traceback (most recent call last):\n",
      "  File \"<ipython-input-2-edd67f1b7ed6>\", line 17, in log\n",
      "    1 / x\n",
      "ZeroDivisionError: division by zero\n"
     ]
    }
   ],
   "source": [
    "log(root_logger, x=0)  # exception log includes stack trace"
   ]
  },
  {
   "cell_type": "markdown",
   "metadata": {},
   "source": [
    "### Basic configuration\n",
    "\n",
    "Calling `basicConfig()` has effect only when handlers list is empty! In python 3.8, `force` argument was added to override."
   ]
  },
  {
   "cell_type": "code",
   "execution_count": 8,
   "metadata": {},
   "outputs": [
    {
     "data": {
      "text/plain": [
       "{'set level': 'ERROR',\n",
       " 'actual level': 'ERROR',\n",
       " 'use parent handlers': True,\n",
       " 'own handlers': [<StreamHandler stderr (NOTSET)>]}"
      ]
     },
     "execution_count": 8,
     "metadata": {},
     "output_type": "execute_result"
    }
   ],
   "source": [
    "logging.basicConfig(\n",
    "    level='ERROR'\n",
    ")\n",
    "logger_info(root_logger)"
   ]
  },
  {
   "cell_type": "code",
   "execution_count": 9,
   "metadata": {},
   "outputs": [
    {
     "name": "stderr",
     "output_type": "stream",
     "text": [
      "ERROR:root:error\n",
      "CRITICAL:root:critical\n"
     ]
    }
   ],
   "source": [
    "log(root_logger)"
   ]
  },
  {
   "cell_type": "code",
   "execution_count": 10,
   "metadata": {},
   "outputs": [
    {
     "data": {
      "text/plain": [
       "{'set level': 'ERROR',\n",
       " 'actual level': 'ERROR',\n",
       " 'use parent handlers': True,\n",
       " 'own handlers': [<StreamHandler stderr (NOTSET)>]}"
      ]
     },
     "execution_count": 10,
     "metadata": {},
     "output_type": "execute_result"
    }
   ],
   "source": [
    "# will not change anything\n",
    "logging.basicConfig(\n",
    "    level='INFO'\n",
    ")\n",
    "logger_info(root_logger)"
   ]
  },
  {
   "cell_type": "code",
   "execution_count": 11,
   "metadata": {},
   "outputs": [
    {
     "name": "stderr",
     "output_type": "stream",
     "text": [
      "ERROR:root:error\n",
      "CRITICAL:root:critical\n"
     ]
    }
   ],
   "source": [
    "log(root_logger)"
   ]
  },
  {
   "cell_type": "code",
   "execution_count": 12,
   "metadata": {},
   "outputs": [
    {
     "data": {
      "text/plain": [
       "{'set level': 'INFO',\n",
       " 'actual level': 'INFO',\n",
       " 'use parent handlers': True,\n",
       " 'own handlers': [<StreamHandler stderr (NOTSET)>]}"
      ]
     },
     "execution_count": 12,
     "metadata": {},
     "output_type": "execute_result"
    }
   ],
   "source": [
    "root_logger.handlers = []  # allows for changing config, in this case: ERROR -> INFO\n",
    "logging.basicConfig(\n",
    "    level='INFO'\n",
    ")\n",
    "logger_info(root_logger)"
   ]
  },
  {
   "cell_type": "code",
   "execution_count": 13,
   "metadata": {},
   "outputs": [
    {
     "name": "stderr",
     "output_type": "stream",
     "text": [
      "INFO:root:info\n",
      "WARNING:root:warning\n",
      "ERROR:root:error\n",
      "CRITICAL:root:critical\n"
     ]
    }
   ],
   "source": [
    "log(root_logger)"
   ]
  },
  {
   "cell_type": "markdown",
   "metadata": {},
   "source": [
    "## Child loggers\n",
    "\n",
    "When created, the level and handlers of the parent (in this case root) will be used."
   ]
  },
  {
   "cell_type": "code",
   "execution_count": 14,
   "metadata": {},
   "outputs": [
    {
     "data": {
      "text/plain": [
       "{'set level': 'NOTSET',\n",
       " 'actual level': 'INFO',\n",
       " 'use parent handlers': True,\n",
       " 'own handlers': []}"
      ]
     },
     "execution_count": 14,
     "metadata": {},
     "output_type": "execute_result"
    }
   ],
   "source": [
    "child_logger = logging.getLogger('child')\n",
    "logger_info(child_logger)"
   ]
  },
  {
   "cell_type": "code",
   "execution_count": 15,
   "metadata": {},
   "outputs": [
    {
     "name": "stderr",
     "output_type": "stream",
     "text": [
      "INFO:child:info\n",
      "WARNING:child:warning\n",
      "ERROR:child:error\n",
      "CRITICAL:child:critical\n"
     ]
    }
   ],
   "source": [
    "log(child_logger)"
   ]
  },
  {
   "cell_type": "markdown",
   "metadata": {},
   "source": [
    "### Override level"
   ]
  },
  {
   "cell_type": "code",
   "execution_count": 16,
   "metadata": {},
   "outputs": [
    {
     "data": {
      "text/plain": [
       "{'set level': 'WARNING',\n",
       " 'actual level': 'WARNING',\n",
       " 'use parent handlers': True,\n",
       " 'own handlers': []}"
      ]
     },
     "execution_count": 16,
     "metadata": {},
     "output_type": "execute_result"
    }
   ],
   "source": [
    "child_logger.setLevel('WARNING')\n",
    "logger_info(child_logger)"
   ]
  },
  {
   "cell_type": "code",
   "execution_count": 17,
   "metadata": {},
   "outputs": [
    {
     "name": "stderr",
     "output_type": "stream",
     "text": [
      "WARNING:child:warning\n",
      "ERROR:child:error\n",
      "CRITICAL:child:critical\n"
     ]
    }
   ],
   "source": [
    "log(child_logger)"
   ]
  },
  {
   "cell_type": "markdown",
   "metadata": {},
   "source": [
    "### Prevent calling parent handlers"
   ]
  },
  {
   "cell_type": "code",
   "execution_count": 18,
   "metadata": {},
   "outputs": [
    {
     "data": {
      "text/plain": [
       "{'set level': 'WARNING',\n",
       " 'actual level': 'WARNING',\n",
       " 'use parent handlers': False,\n",
       " 'own handlers': []}"
      ]
     },
     "execution_count": 18,
     "metadata": {},
     "output_type": "execute_result"
    }
   ],
   "source": [
    "child_logger.propagate = False\n",
    "logger_info(child_logger)"
   ]
  },
  {
   "cell_type": "code",
   "execution_count": 19,
   "metadata": {},
   "outputs": [
    {
     "name": "stderr",
     "output_type": "stream",
     "text": [
      "warning\n",
      "error\n",
      "critical\n"
     ]
    }
   ],
   "source": [
    "log(child_logger)  # since handlers list is empty again, last resort handler is activated"
   ]
  },
  {
   "cell_type": "markdown",
   "metadata": {},
   "source": [
    "### Disable logging\n",
    "\n",
    "Logging is disabled when `propagate = False` and handlers list contains a single `NullHandler`.  "
   ]
  },
  {
   "cell_type": "code",
   "execution_count": 20,
   "metadata": {},
   "outputs": [
    {
     "data": {
      "text/plain": [
       "{'set level': 'WARNING',\n",
       " 'actual level': 'WARNING',\n",
       " 'use parent handlers': False,\n",
       " 'own handlers': [<NullHandler (NOTSET)>]}"
      ]
     },
     "execution_count": 20,
     "metadata": {},
     "output_type": "execute_result"
    }
   ],
   "source": [
    "child_logger.addHandler(logging.NullHandler())\n",
    "logger_info(child_logger)"
   ]
  },
  {
   "cell_type": "code",
   "execution_count": 21,
   "metadata": {},
   "outputs": [],
   "source": [
    "log(child_logger)  # now logging is completely disabled for this logger"
   ]
  },
  {
   "cell_type": "markdown",
   "metadata": {},
   "source": [
    "### Setup custom handler"
   ]
  },
  {
   "cell_type": "code",
   "execution_count": 22,
   "metadata": {},
   "outputs": [
    {
     "data": {
      "text/plain": [
       "{'set level': 'WARNING',\n",
       " 'actual level': 'WARNING',\n",
       " 'use parent handlers': False,\n",
       " 'own handlers': [<NullHandler (NOTSET)>, <StreamHandler stderr (CRITICAL)>]}"
      ]
     },
     "execution_count": 22,
     "metadata": {},
     "output_type": "execute_result"
    }
   ],
   "source": [
    "formatter = logging.Formatter('%(asctime)s - %(levelname)s - %(message)s')\n",
    "\n",
    "handler = logging.StreamHandler()\n",
    "handler.setLevel('CRITICAL')  # handler can have its own severity level\n",
    "handler.setFormatter(formatter)\n",
    "\n",
    "child_logger.addHandler(handler)\n",
    "\n",
    "logger_info(child_logger)"
   ]
  },
  {
   "cell_type": "code",
   "execution_count": 23,
   "metadata": {},
   "outputs": [
    {
     "name": "stderr",
     "output_type": "stream",
     "text": [
      "2020-04-21 21:18:55,341 - CRITICAL - critical\n"
     ]
    }
   ],
   "source": [
    "log(child_logger)"
   ]
  },
  {
   "cell_type": "markdown",
   "metadata": {},
   "source": [
    "### Calling same setup again will create duplicate logs\n",
    "\n",
    "Handlers are appended to a list and each is called in turn."
   ]
  },
  {
   "cell_type": "code",
   "execution_count": 24,
   "metadata": {},
   "outputs": [
    {
     "data": {
      "text/plain": [
       "{'set level': 'WARNING',\n",
       " 'actual level': 'WARNING',\n",
       " 'use parent handlers': False,\n",
       " 'own handlers': [<NullHandler (NOTSET)>,\n",
       "  <StreamHandler stderr (CRITICAL)>,\n",
       "  <StreamHandler stderr (CRITICAL)>]}"
      ]
     },
     "execution_count": 24,
     "metadata": {},
     "output_type": "execute_result"
    }
   ],
   "source": [
    "formatter = logging.Formatter('%(asctime)s - %(levelname)s - %(message)s')\n",
    "\n",
    "handler = logging.StreamHandler()\n",
    "handler.setLevel('CRITICAL')  # handler can have its own severity level\n",
    "handler.setFormatter(formatter)\n",
    "\n",
    "child_logger.addHandler(handler)\n",
    "\n",
    "logger_info(child_logger)"
   ]
  },
  {
   "cell_type": "code",
   "execution_count": 25,
   "metadata": {},
   "outputs": [
    {
     "name": "stderr",
     "output_type": "stream",
     "text": [
      "2020-04-21 21:18:55,376 - CRITICAL - critical\n",
      "2020-04-21 21:18:55,376 - CRITICAL - critical\n"
     ]
    }
   ],
   "source": [
    "log(child_logger)"
   ]
  },
  {
   "cell_type": "markdown",
   "metadata": {},
   "source": [
    "### Re-enable parent logging"
   ]
  },
  {
   "cell_type": "code",
   "execution_count": 26,
   "metadata": {},
   "outputs": [
    {
     "data": {
      "text/plain": [
       "{'set level': 'WARNING',\n",
       " 'actual level': 'WARNING',\n",
       " 'use parent handlers': True,\n",
       " 'own handlers': [<NullHandler (NOTSET)>,\n",
       "  <StreamHandler stderr (CRITICAL)>,\n",
       "  <StreamHandler stderr (CRITICAL)>]}"
      ]
     },
     "execution_count": 26,
     "metadata": {},
     "output_type": "execute_result"
    }
   ],
   "source": [
    "child_logger.propagate = True\n",
    "logger_info(child_logger)"
   ]
  },
  {
   "cell_type": "code",
   "execution_count": 27,
   "metadata": {},
   "outputs": [
    {
     "name": "stderr",
     "output_type": "stream",
     "text": [
      "WARNING:child:warning\n",
      "ERROR:child:error\n",
      "2020-04-21 21:18:55,422 - CRITICAL - critical\n",
      "2020-04-21 21:18:55,422 - CRITICAL - critical\n",
      "CRITICAL:child:critical\n"
     ]
    }
   ],
   "source": [
    "log(child_logger)"
   ]
  }
 ],
 "metadata": {
  "jupytext": {
   "formats": "ipynb,py:percent"
  },
  "kernelspec": {
   "display_name": "Python 3",
   "language": "python",
   "name": "python3"
  },
  "language_info": {
   "codemirror_mode": {
    "name": "ipython",
    "version": 3
   },
   "file_extension": ".py",
   "mimetype": "text/x-python",
   "name": "python",
   "nbconvert_exporter": "python",
   "pygments_lexer": "ipython3",
   "version": "3.7.5"
  }
 },
 "nbformat": 4,
 "nbformat_minor": 4
}
