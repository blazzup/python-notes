{
 "cells": [
  {
   "cell_type": "code",
   "execution_count": 1,
   "metadata": {},
   "outputs": [],
   "source": [
    "import re\n",
    "\n",
    "from pathlib import Path\n",
    "from tempfile import TemporaryDirectory\n",
    "from datetime import datetime\n",
    "from pprint import pprint"
   ]
  },
  {
   "cell_type": "markdown",
   "metadata": {},
   "source": [
    "## Setup"
   ]
  },
  {
   "cell_type": "code",
   "execution_count": 2,
   "metadata": {},
   "outputs": [],
   "source": [
    "def run_example(function):\n",
    "    \"\"\"Setup test files and run user function with folder passed in as the parameter.\"\"\"\n",
    "    with TemporaryDirectory() as folder:\n",
    "        subfolder = Path(folder, 'sub')\n",
    "        subfolder.mkdir()\n",
    "        for i in range(3):\n",
    "            Path(folder, f'test-{i:03d}.txt').touch()\n",
    "            Path(subfolder, f'file-{i:03d}.txt').touch()\n",
    "        Path(subfolder, f'file-xyz.txt').write_text('hello')\n",
    "\n",
    "        pprint(function(folder))  # function for listing contents"
   ]
  },
  {
   "cell_type": "markdown",
   "metadata": {},
   "source": [
    "## List files"
   ]
  },
  {
   "cell_type": "code",
   "execution_count": 3,
   "metadata": {
    "lines_to_next_cell": 2
   },
   "outputs": [
    {
     "name": "stdout",
     "output_type": "stream",
     "text": [
      "['/tmp/tmpml4vjzn6/test-001.txt',\n",
      " '/tmp/tmpml4vjzn6/test-000.txt',\n",
      " '/tmp/tmpml4vjzn6/test-002.txt',\n",
      " '/tmp/tmpml4vjzn6/sub/file-xyz.txt',\n",
      " '/tmp/tmpml4vjzn6/sub/file-002.txt',\n",
      " '/tmp/tmpml4vjzn6/sub/file-000.txt',\n",
      " '/tmp/tmpml4vjzn6/sub/file-001.txt']\n"
     ]
    }
   ],
   "source": [
    "def list_all(folder):\n",
    "    file_list = Path(folder).glob('**/*.txt')\n",
    "    return list(map(str, file_list))\n",
    "\n",
    "\n",
    "run_example(list_all)"
   ]
  },
  {
   "cell_type": "code",
   "execution_count": 4,
   "metadata": {
    "lines_to_next_cell": 2
   },
   "outputs": [
    {
     "name": "stdout",
     "output_type": "stream",
     "text": [
      "[{'idx': nan,\n",
      "  'last_update': '2020-04-25T12:14:17.923167',\n",
      "  'name': 'file-xyz.txt',\n",
      "  'size': 5},\n",
      " {'idx': 2,\n",
      "  'last_update': '2020-04-25T12:14:17.923167',\n",
      "  'name': 'file-002.txt',\n",
      "  'size': 0},\n",
      " {'idx': 0,\n",
      "  'last_update': '2020-04-25T12:14:17.923167',\n",
      "  'name': 'file-000.txt',\n",
      "  'size': 0},\n",
      " {'idx': 1,\n",
      "  'last_update': '2020-04-25T12:14:17.923167',\n",
      "  'name': 'file-001.txt',\n",
      "  'size': 0}]\n"
     ]
    }
   ],
   "source": [
    "def list_numeric(folder):\n",
    "    file_list = Path(folder).glob('**/file*.txt')\n",
    "\n",
    "    file_index = []\n",
    "    p = re.compile('-(\\d+)\\.')  # search for number with leading \"-\" and trailing \".\"\n",
    "    for file in file_list:\n",
    "        m = p.search(str(file))\n",
    "        idx = int(m.group(1)) if m is not None else float('nan')\n",
    "        file_index.append({\n",
    "            'idx': idx,\n",
    "            'name': file.name,\n",
    "            'size': file.stat().st_size,\n",
    "            'last_update': datetime.fromtimestamp(file.stat().st_mtime).isoformat(),\n",
    "        })\n",
    "        # output can be used directly with pandas, e.g.:\n",
    "        # pd.DataFrame(file_index).dropna().set_index('idx').sort_index()\n",
    "\n",
    "    return file_index\n",
    "\n",
    "\n",
    "run_example(list_numeric)"
   ]
  }
 ],
 "metadata": {
  "jupytext": {
   "formats": "ipynb,py:percent"
  },
  "kernelspec": {
   "display_name": "Python 3",
   "language": "python",
   "name": "python3"
  },
  "language_info": {
   "codemirror_mode": {
    "name": "ipython",
    "version": 3
   },
   "file_extension": ".py",
   "mimetype": "text/x-python",
   "name": "python",
   "nbconvert_exporter": "python",
   "pygments_lexer": "ipython3",
   "version": "3.7.5"
  }
 },
 "nbformat": 4,
 "nbformat_minor": 1
}
